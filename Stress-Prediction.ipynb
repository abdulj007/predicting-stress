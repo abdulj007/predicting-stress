{
 "cells": [
  {
   "cell_type": "code",
   "execution_count": 215,
   "metadata": {},
   "outputs": [],
   "source": [
    "#import libraries\n",
    "import os\n",
    "import pandas as pd\n",
    "import numpy as np\n",
    "from datetime import datetime, timedelta\n",
    "import seaborn as sns\n",
    "import matplotlib.pyplot as plt\n",
    "from sklearn.ensemble import RandomForestClassifier\n",
    "from sklearn.tree import DecisionTreeClassifier\n",
    "from sklearn import tree\n",
    "from sklearn.model_selection import GridSearchCV\n",
    "from sklearn.datasets import make_classification\n",
    "from sklearn.model_selection import train_test_split\n",
    "from sklearn.metrics import accuracy_score\n",
    "from sklearn.impute import KNNImputer\n",
    "from sklearn.metrics import confusion_matrix\n",
    "from sklearn.metrics import classification_report\n",
    "from sklearn.model_selection import cross_val_score\n",
    "from sklearn.linear_model import LogisticRegression"
   ]
  },
  {
   "cell_type": "markdown",
   "metadata": {},
   "source": [
    "<h3>UNZIP FILE</h3>"
   ]
  },
  {
   "cell_type": "code",
   "execution_count": 2,
   "metadata": {},
   "outputs": [],
   "source": [
    "df_path = r'C:\\Users\\aa22788\\Stress_dataset'\n",
    "import zipfile\n",
    "with zipfile.ZipFile(r'C:\\Users\\aa22788\\Stress-Predict-Dataset', 'r') as zip_ref:\n",
    "    zip_ref.extractall(df_path)"
   ]
  },
  {
   "cell_type": "code",
   "execution_count": 3,
   "metadata": {},
   "outputs": [
    {
     "data": {
      "text/plain": [
       "'C:\\\\Users\\\\aa22788'"
      ]
     },
     "execution_count": 3,
     "metadata": {},
     "output_type": "execute_result"
    }
   ],
   "source": [
    "pwd"
   ]
  },
  {
   "cell_type": "markdown",
   "metadata": {},
   "source": [
    "<h3>List of all features we will collect</h3>"
   ]
  },
  {
   "cell_type": "markdown",
   "metadata": {},
   "source": [
    "TEMP.csv\n",
    "Data from temperature sensor expressed degrees on the Celsius (°C) scale.\n",
    "\n",
    "EDA.csv\n",
    "Data from the electrodermal activity sensor expressed as microsiemens (μS).\n",
    "\n",
    "BVP.csv\n",
    "Data from photoplethysmograph.\n",
    "\n",
    "ACC.csv\n",
    "Data from 3-axis accelerometer sensor. The accelerometer is configured to measure acceleration in the range [-2g, 2g]. Therefore the unit in this file is 1/64g.\n",
    "Data from x, y, and z axis are respectively in first, second, and third column.\n",
    "\n",
    "IBI.csv\n",
    "Time between individuals heart beats extracted from the BVP signal.\n",
    "The first column is the time (respect to the initial time) of the detected inter-beat interval expressed in seconds (s).\n",
    "The second column is the duration in seconds (s) of the detected inter-beat interval (i.e., the distance in seconds from the previous beat).\n",
    "\n",
    "HR.csv\n",
    "Average heart rate extracted from the BVP signal.\n"
   ]
  },
  {
   "cell_type": "markdown",
   "metadata": {},
   "source": [
    "CREATE empty lists to fetch in data for each participant feature "
   ]
  },
  {
   "cell_type": "code",
   "execution_count": 139,
   "metadata": {},
   "outputs": [],
   "source": [
    "acc =[]\n",
    "acc_d = []\n",
    "temp = []\n",
    "eda = []\n",
    "bvp = []\n",
    "hr = []\n",
    "ibi = []\n",
    "\n",
    "acc2 =[]\n",
    "acc_d2 = []\n",
    "temp2 = []\n",
    "eda2 = []\n",
    "bvp2 = []\n",
    "hr2 = []\n",
    "ibi2 = []\n",
    "\n",
    "acc4 =[]\n",
    "acc_d4 = []\n",
    "temp4 = []\n",
    "eda4 = []\n",
    "bvp4 = []\n",
    "hr4 = []\n",
    "ibi4 = []\n",
    "\n",
    "acc6 =[]\n",
    "acc_d6 = []\n",
    "temp6 = []\n",
    "eda6 = []\n",
    "bvp6 = []\n",
    "hr6 = []\n",
    "ibi6 = []\n",
    "# acc.to_csv('ACC.csv', mode='a', index=False, header=False)"
   ]
  },
  {
   "cell_type": "markdown",
   "metadata": {},
   "source": [
    "### Import data for participant 01, 02, 04 and 06"
   ]
  },
  {
   "cell_type": "markdown",
   "metadata": {},
   "source": [
    "Read in data for each column"
   ]
  },
  {
   "cell_type": "code",
   "execution_count": 140,
   "metadata": {
    "scrolled": true
   },
   "outputs": [
    {
     "name": "stdout",
     "output_type": "stream",
     "text": [
      "C:\\Users\\aa22788\\Stress_dataset\\S06 ACC.csvlol\n",
      "C:\\Users\\aa22788\\Stress_dataset\\S06 BVP.csvlol\n",
      "C:\\Users\\aa22788\\Stress_dataset\\S06 EDA.csvlol\n",
      "C:\\Users\\aa22788\\Stress_dataset\\S06 HR.csvlol\n",
      "C:\\Users\\aa22788\\Stress_dataset\\S06 IBI.csvlol\n",
      "C:\\Users\\aa22788\\Stress_dataset\\S06 info.txtlol\n",
      "C:\\Users\\aa22788\\Stress_dataset\\S06 tags_S06.csvlol\n",
      "C:\\Users\\aa22788\\Stress_dataset\\S06 TEMP.csvlol\n"
     ]
    }
   ],
   "source": [
    "df_file_path = r'C:\\Users\\aa22788\\Stress_dataset'\n",
    "for dirpath, dirname, filenames in os.walk(df_file_path):\n",
    "    if dirpath == r'C:\\Users\\aa22788\\Stress_dataset\\S01':\n",
    "        for file in filenames:\n",
    "            #Append each excel file to its respective path, according to label\n",
    "            if file =='ACC.csv':\n",
    "                acc.append(pd.read_csv(dirpath+ '\\\\'+file,skiprows=2,  header=None) )\n",
    "                acc_d.append(pd.read_csv(dirpath+ '\\\\'+file,nrows=2, header=None) )\n",
    "                \n",
    "            if file=='TEMP.csv':\n",
    "                temp.append(pd.read_csv(dirpath+ '\\\\'+file,skiprows=2, header=None) )\n",
    "\n",
    "            if file =='BVP.csv':\n",
    "                bvp.append(pd.read_csv(dirpath+ '\\\\'+file,skiprows=2, header=None) )\n",
    "\n",
    "            if file =='HR.csv':\n",
    "                hr.append(pd.read_csv(dirpath+ '\\\\'+file,skiprows=2, header=None) )\n",
    "\n",
    "            if file =='IBI.csv':\n",
    "                ibi.append(pd.read_csv(dirpath+ '\\\\'+file,skiprows=2, header=None) )\n",
    "\n",
    "            if file =='EDA.csv':\n",
    "                eda.append(pd.read_csv(dirpath+ '\\\\'+file,skiprows=2, header=None) )\n",
    "\n",
    "            print(dirpath, file+'lol')\n",
    "    \n",
    "    if dirpath == r'C:\\Users\\aa22788\\Stress_dataset\\S02':\n",
    "        for file in filenames:\n",
    "            #Append each excel file to its respective path, according to label\n",
    "            if file =='ACC.csv':\n",
    "                acc2.append(pd.read_csv(dirpath+ '\\\\'+file,skiprows=2,  header=None) )\n",
    "                acc_d2.append(pd.read_csv(dirpath+ '\\\\'+file,nrows=2, header=None) )\n",
    "                \n",
    "            if file=='TEMP.csv':\n",
    "                temp2.append(pd.read_csv(dirpath+ '\\\\'+file,skiprows=2, header=None) )\n",
    "\n",
    "            if file =='BVP.csv':\n",
    "                bvp2.append(pd.read_csv(dirpath+ '\\\\'+file,skiprows=2, header=None) )\n",
    "\n",
    "            if file =='HR.csv':\n",
    "                hr2.append(pd.read_csv(dirpath+ '\\\\'+file,skiprows=2, header=None) )\n",
    "\n",
    "            if file =='IBI.csv':\n",
    "                ibi2.append(pd.read_csv(dirpath+ '\\\\'+file,skiprows=2, header=None) )\n",
    "\n",
    "            if file =='EDA.csv':\n",
    "                eda2.append(pd.read_csv(dirpath+ '\\\\'+file,skiprows=2, header=None) )\n",
    "\n",
    "            print(dirpath, file+'lol')\n",
    "    \n",
    "    if dirpath == r'C:\\Users\\aa22788\\Stress_dataset\\S04':\n",
    "        for file in filenames:\n",
    "            #Append each excel file to its respective path, according to label\n",
    "            if file =='ACC.csv':\n",
    "                acc4.append(pd.read_csv(dirpath+ '\\\\'+file,skiprows=2,  header=None) )\n",
    "                acc_d4.append(pd.read_csv(dirpath+ '\\\\'+file,nrows=2, header=None) )\n",
    "                \n",
    "            if file=='TEMP.csv':\n",
    "                temp4.append(pd.read_csv(dirpath+ '\\\\'+file,skiprows=2, header=None) )\n",
    "\n",
    "            if file =='BVP.csv':\n",
    "                bvp4.append(pd.read_csv(dirpath+ '\\\\'+file,skiprows=2, header=None) )\n",
    "\n",
    "            if file =='HR.csv':\n",
    "                hr4.append(pd.read_csv(dirpath+ '\\\\'+file,skiprows=2, header=None) )\n",
    "\n",
    "            if file =='IBI.csv':\n",
    "                ibi4.append(pd.read_csv(dirpath+ '\\\\'+file,skiprows=2, header=None) )\n",
    "\n",
    "            if file =='EDA.csv':\n",
    "                eda4.append(pd.read_csv(dirpath+ '\\\\'+file,skiprows=2, header=None) )\n",
    "\n",
    "            print(dirpath, file+'lol')\n",
    "    \n",
    "    if dirpath == r'C:\\Users\\aa22788\\Stress_dataset\\S06':\n",
    "        for file in filenames:\n",
    "            #Append each excel file to its respective path, according to label\n",
    "            if file =='ACC.csv':\n",
    "                acc6.append(pd.read_csv(dirpath+ '\\\\'+file,skiprows=2,  header=None) )\n",
    "                acc_d6.append(pd.read_csv(dirpath+ '\\\\'+file,nrows=2, header=None) )\n",
    "                \n",
    "            if file=='TEMP.csv':\n",
    "                temp6.append(pd.read_csv(dirpath+ '\\\\'+file,skiprows=2, header=None) )\n",
    "\n",
    "            if file =='BVP.csv':\n",
    "                bvp6.append(pd.read_csv(dirpath+ '\\\\'+file,skiprows=2, header=None) )\n",
    "\n",
    "            if file =='HR.csv':\n",
    "                hr6.append(pd.read_csv(dirpath+ '\\\\'+file,skiprows=2, header=None) )\n",
    "\n",
    "            if file =='IBI.csv':\n",
    "                ibi6.append(pd.read_csv(dirpath+ '\\\\'+file,skiprows=2, header=None) )\n",
    "\n",
    "            if file =='EDA.csv':\n",
    "                eda6.append(pd.read_csv(dirpath+ '\\\\'+file,skiprows=2, header=None) )\n",
    "\n",
    "            print(dirpath, file+'lol')\n",
    "    \n",
    "    \n",
    "        #another layer to include data for "
   ]
  },
  {
   "cell_type": "markdown",
   "metadata": {},
   "source": [
    "<h3>concatenate the lists into dataframe for each signal and for each participant data</h3> "
   ]
  },
  {
   "cell_type": "markdown",
   "metadata": {},
   "source": [
    "### Participant 01"
   ]
  },
  {
   "cell_type": "code",
   "execution_count": 7,
   "metadata": {},
   "outputs": [],
   "source": [
    "\n",
    "acc = pd.concat(acc)\n",
    "acc.reset_index(inplace=True,drop=True)\n",
    "\n",
    "acc_d = pd.concat(acc_d)\n",
    "acc_d.reset_index(inplace=True,drop=True)\n",
    "\n",
    "temp = pd.concat(temp)\n",
    "temp.reset_index(inplace=True,drop=True)\n",
    "\n",
    "bvp = pd.concat(bvp)\n",
    "bvp.reset_index(inplace=True,drop=True)\n",
    "\n",
    "hr = pd.concat(hr)\n",
    "hr.reset_index(inplace=True,drop=True)\n",
    "\n",
    "ibi = pd.concat(ibi)\n",
    "ibi.reset_index(inplace=True,drop=True)\n",
    "\n",
    "eda = pd.concat(eda)\n",
    "eda.reset_index(inplace=True,drop=True)"
   ]
  },
  {
   "cell_type": "markdown",
   "metadata": {},
   "source": [
    "### Participant 02"
   ]
  },
  {
   "cell_type": "code",
   "execution_count": 8,
   "metadata": {},
   "outputs": [],
   "source": [
    "acc2 = pd.concat(acc2)\n",
    "acc2.reset_index(inplace=True,drop=True)\n",
    "\n",
    "acc_d2 = pd.concat(acc_d2)\n",
    "acc_d2.reset_index(inplace=True,drop=True)\n",
    "\n",
    "temp2 = pd.concat(temp2)\n",
    "temp2.reset_index(inplace=True,drop=True)\n",
    "\n",
    "bvp2 = pd.concat(bvp2)\n",
    "bvp2.reset_index(inplace=True,drop=True)\n",
    "\n",
    "hr2 = pd.concat(hr2)\n",
    "hr2.reset_index(inplace=True,drop=True)\n",
    "\n",
    "ibi2 = pd.concat(ibi2)\n",
    "ibi2.reset_index(inplace=True,drop=True)\n",
    "\n",
    "eda2 = pd.concat(eda2)\n",
    "eda2.reset_index(inplace=True,drop=True)"
   ]
  },
  {
   "cell_type": "markdown",
   "metadata": {},
   "source": [
    "### Participant 04"
   ]
  },
  {
   "cell_type": "code",
   "execution_count": 9,
   "metadata": {},
   "outputs": [],
   "source": [
    "acc4 = pd.concat(acc4)\n",
    "acc4.reset_index(inplace=True,drop=True)\n",
    "\n",
    "acc_d4 = pd.concat(acc_d4)\n",
    "acc_d4.reset_index(inplace=True,drop=True)\n",
    "\n",
    "temp4 = pd.concat(temp4)\n",
    "temp4.reset_index(inplace=True,drop=True)\n",
    "\n",
    "bvp4 = pd.concat(bvp4)\n",
    "bvp4.reset_index(inplace=True,drop=True)\n",
    "\n",
    "hr4 = pd.concat(hr4)\n",
    "hr4.reset_index(inplace=True,drop=True)\n",
    "\n",
    "ibi4 = pd.concat(ibi4)\n",
    "ibi4.reset_index(inplace=True,drop=True)\n",
    "\n",
    "eda4 = pd.concat(eda4)\n",
    "eda4.reset_index(inplace=True,drop=True)"
   ]
  },
  {
   "cell_type": "markdown",
   "metadata": {},
   "source": [
    "### Participant 06"
   ]
  },
  {
   "cell_type": "code",
   "execution_count": 141,
   "metadata": {},
   "outputs": [],
   "source": [
    "acc6 = pd.concat(acc6)\n",
    "acc.reset_index(inplace=True,drop=True)\n",
    "\n",
    "acc_d6 = pd.concat(acc_d6)\n",
    "acc_d6.reset_index(inplace=True,drop=True)\n",
    "\n",
    "temp6 = pd.concat(temp6)\n",
    "temp6.reset_index(inplace=True,drop=True)\n",
    "\n",
    "bvp6 = pd.concat(bvp6)\n",
    "bvp6.reset_index(inplace=True,drop=True)\n",
    "\n",
    "hr6 = pd.concat(hr6)\n",
    "hr.reset_index(inplace=True,drop=True)\n",
    "\n",
    "ibi6 = pd.concat(ibi6)\n",
    "ibi6.reset_index(inplace=True,drop=True)\n",
    "\n",
    "eda6 = pd.concat(eda6)\n",
    "eda6.reset_index(inplace=True,drop=True)"
   ]
  },
  {
   "cell_type": "code",
   "execution_count": 11,
   "metadata": {},
   "outputs": [
    {
     "name": "stdout",
     "output_type": "stream",
     "text": [
      "(104310, 3)\n",
      "       0\n",
      "0  28.39\n",
      "1  28.39\n",
      "2  28.39\n",
      "3  28.39\n",
      "4  28.39\n"
     ]
    },
    {
     "data": {
      "text/html": [
       "<div>\n",
       "<style scoped>\n",
       "    .dataframe tbody tr th:only-of-type {\n",
       "        vertical-align: middle;\n",
       "    }\n",
       "\n",
       "    .dataframe tbody tr th {\n",
       "        vertical-align: top;\n",
       "    }\n",
       "\n",
       "    .dataframe thead th {\n",
       "        text-align: right;\n",
       "    }\n",
       "</style>\n",
       "<table border=\"1\" class=\"dataframe\">\n",
       "  <thead>\n",
       "    <tr style=\"text-align: right;\">\n",
       "      <th></th>\n",
       "      <th>0</th>\n",
       "      <th>1</th>\n",
       "      <th>2</th>\n",
       "    </tr>\n",
       "  </thead>\n",
       "  <tbody>\n",
       "    <tr>\n",
       "      <th>0</th>\n",
       "      <td>-3</td>\n",
       "      <td>-1</td>\n",
       "      <td>-63</td>\n",
       "    </tr>\n",
       "    <tr>\n",
       "      <th>1</th>\n",
       "      <td>-3</td>\n",
       "      <td>-1</td>\n",
       "      <td>-63</td>\n",
       "    </tr>\n",
       "    <tr>\n",
       "      <th>2</th>\n",
       "      <td>-3</td>\n",
       "      <td>-1</td>\n",
       "      <td>-63</td>\n",
       "    </tr>\n",
       "    <tr>\n",
       "      <th>3</th>\n",
       "      <td>-3</td>\n",
       "      <td>-1</td>\n",
       "      <td>-62</td>\n",
       "    </tr>\n",
       "    <tr>\n",
       "      <th>4</th>\n",
       "      <td>-3</td>\n",
       "      <td>-1</td>\n",
       "      <td>-62</td>\n",
       "    </tr>\n",
       "  </tbody>\n",
       "</table>\n",
       "</div>"
      ],
      "text/plain": [
       "   0  1   2\n",
       "0 -3 -1 -63\n",
       "1 -3 -1 -63\n",
       "2 -3 -1 -63\n",
       "3 -3 -1 -62\n",
       "4 -3 -1 -62"
      ]
     },
     "execution_count": 11,
     "metadata": {},
     "output_type": "execute_result"
    }
   ],
   "source": [
    "#check if columns read in properly\n",
    "print(acc.shape)\n",
    "print(temp.head())\n",
    "acc6.head()"
   ]
  },
  {
   "cell_type": "code",
   "execution_count": 12,
   "metadata": {},
   "outputs": [
    {
     "name": "stdout",
     "output_type": "stream",
     "text": [
      "              0             1             2\n",
      "0  1.644233e+09  1.644233e+09  1.644233e+09\n",
      "1  3.200000e+01  3.200000e+01  3.200000e+01\n"
     ]
    },
    {
     "data": {
      "text/html": [
       "<div>\n",
       "<style scoped>\n",
       "    .dataframe tbody tr th:only-of-type {\n",
       "        vertical-align: middle;\n",
       "    }\n",
       "\n",
       "    .dataframe tbody tr th {\n",
       "        vertical-align: top;\n",
       "    }\n",
       "\n",
       "    .dataframe thead th {\n",
       "        text-align: right;\n",
       "    }\n",
       "</style>\n",
       "<table border=\"1\" class=\"dataframe\">\n",
       "  <thead>\n",
       "    <tr style=\"text-align: right;\">\n",
       "      <th></th>\n",
       "      <th>0</th>\n",
       "      <th>1</th>\n",
       "      <th>2</th>\n",
       "    </tr>\n",
       "  </thead>\n",
       "  <tbody>\n",
       "    <tr>\n",
       "      <th>0</th>\n",
       "      <td>1.644832e+09</td>\n",
       "      <td>1.644832e+09</td>\n",
       "      <td>1.644832e+09</td>\n",
       "    </tr>\n",
       "    <tr>\n",
       "      <th>1</th>\n",
       "      <td>3.200000e+01</td>\n",
       "      <td>3.200000e+01</td>\n",
       "      <td>3.200000e+01</td>\n",
       "    </tr>\n",
       "  </tbody>\n",
       "</table>\n",
       "</div>"
      ],
      "text/plain": [
       "              0             1             2\n",
       "0  1.644832e+09  1.644832e+09  1.644832e+09\n",
       "1  3.200000e+01  3.200000e+01  3.200000e+01"
      ]
     },
     "execution_count": 12,
     "metadata": {},
     "output_type": "execute_result"
    }
   ],
   "source": [
    "print(acc_d4.head())\n",
    "acc_d6.head()"
   ]
  },
  {
   "cell_type": "markdown",
   "metadata": {},
   "source": [
    "### Give descriptive names to each column for each participant"
   ]
  },
  {
   "cell_type": "markdown",
   "metadata": {},
   "source": [
    "### Participant 01"
   ]
  },
  {
   "cell_type": "code",
   "execution_count": 13,
   "metadata": {},
   "outputs": [],
   "source": [
    "ibi.rename(columns = {0:\"ibi_1\",1:\"ibi_2\"},inplace=True)\n",
    "hr.rename(columns = {0:\"avg_heart_rate\"},inplace=True)\n",
    "temp.rename(columns = {0:\"temp\"},inplace=True)\n",
    "eda.rename(columns = {0:\"eda\"},inplace=True)\n",
    "acc.rename(columns = {0:\"acc_x\",1:\"acc_y\",2:\"acc_z\"},inplace=True)\n",
    "bvp.rename(columns = {0:\"bvp\"},inplace=True)"
   ]
  },
  {
   "cell_type": "markdown",
   "metadata": {},
   "source": [
    "### Participant 02"
   ]
  },
  {
   "cell_type": "code",
   "execution_count": 14,
   "metadata": {},
   "outputs": [],
   "source": [
    "ibi2.rename(columns = {0:\"ibi_1\",1:\"ibi_2\"},inplace=True)\n",
    "hr2.rename(columns = {0:\"avg_heart_rate\"},inplace=True)\n",
    "temp2.rename(columns = {0:\"temp\"},inplace=True)\n",
    "eda2.rename(columns = {0:\"eda\"},inplace=True)\n",
    "acc2.rename(columns = {0:\"acc_x\",1:\"acc_y\",2:\"acc_z\"},inplace=True)\n",
    "bvp2.rename(columns = {0:\"bvp\"},inplace=True)"
   ]
  },
  {
   "cell_type": "markdown",
   "metadata": {},
   "source": [
    "### Participant 04"
   ]
  },
  {
   "cell_type": "code",
   "execution_count": 15,
   "metadata": {},
   "outputs": [],
   "source": [
    "ibi4.rename(columns = {0:\"ibi_1\",1:\"ibi_2\"},inplace=True)\n",
    "hr4.rename(columns = {0:\"avg_heart_rate\"},inplace=True)\n",
    "temp4.rename(columns = {0:\"temp\"},inplace=True)\n",
    "eda4.rename(columns = {0:\"eda\"},inplace=True)\n",
    "acc4.rename(columns = {0:\"acc_x\",1:\"acc_y\",2:\"acc_z\"},inplace=True)\n",
    "bvp4.rename(columns = {0:\"bvp\"},inplace=True)"
   ]
  },
  {
   "cell_type": "markdown",
   "metadata": {},
   "source": [
    "### Participant 06"
   ]
  },
  {
   "cell_type": "code",
   "execution_count": 142,
   "metadata": {},
   "outputs": [],
   "source": [
    "ibi6.rename(columns = {0:\"ibi_1\",1:\"ibi_2\"},inplace=True)\n",
    "hr6.rename(columns = {0:\"avg_heart_rate\"},inplace=True)\n",
    "temp6.rename(columns = {0:\"temp\"},inplace=True)\n",
    "eda6.rename(columns = {0:\"eda\"},inplace=True)\n",
    "acc6.rename(columns = {0:\"acc_x\",1:\"acc_y\",2:\"acc_z\"},inplace=True)\n",
    "bvp6.rename(columns = {0:\"bvp\"},inplace=True)"
   ]
  },
  {
   "cell_type": "markdown",
   "metadata": {},
   "source": [
    "### Append timeseries to acc dataframe for each participant in the study"
   ]
  },
  {
   "cell_type": "code",
   "execution_count": 143,
   "metadata": {
    "scrolled": true
   },
   "outputs": [
    {
     "name": "stderr",
     "output_type": "stream",
     "text": [
      "C:\\ProgramData\\Anaconda3\\lib\\site-packages\\pandas\\core\\indexing.py:670: SettingWithCopyWarning: \n",
      "A value is trying to be set on a copy of a slice from a DataFrame\n",
      "\n",
      "See the caveats in the documentation: https://pandas.pydata.org/pandas-docs/stable/user_guide/indexing.html#returning-a-view-versus-a-copy\n",
      "  iloc._setitem_with_indexer(indexer, value)\n"
     ]
    }
   ],
   "source": [
    "#Participant 01\n",
    "acc['datetime']= datetime.utcfromtimestamp(acc_d.iloc[0,1])\n",
    "sample_rate = acc_d.iloc[1,1]\n",
    "for i,j in acc.iterrows():\n",
    "    acc['datetime'].iloc[i] = acc['datetime'].iloc[i] + timedelta(seconds = i*(1/sample_rate))\n",
    "\n",
    "    \n",
    "#participant 02\n",
    "acc2['datetime']= datetime.utcfromtimestamp(acc_d2.iloc[0,1])\n",
    "sample_rate2 = acc_d2.iloc[1,1]\n",
    "for i,j in acc2.iterrows():\n",
    "    acc2['datetime'].iloc[i] = acc2['datetime'].iloc[i] + timedelta(seconds = i*(1/sample_rate2))\n",
    "\n",
    "    \n",
    "#participant 04\n",
    "acc4['datetime']= datetime.utcfromtimestamp(acc_d4.iloc[0,1])\n",
    "sample_rate4 = acc_d4.iloc[1,1]\n",
    "for i,j in acc4.iterrows():\n",
    "    acc4['datetime'].iloc[i] = acc4['datetime'].iloc[i] + timedelta(seconds = i*(1/sample_rate4))\n",
    "    \n",
    "#participant 06\n",
    "acc6['datetime']= datetime.utcfromtimestamp(acc_d6.iloc[0,1])\n",
    "sample_rate6 = acc_d6.iloc[1,1]\n",
    "for i,j in acc6.iterrows():\n",
    "    acc6['datetime'].iloc[i] = acc6['datetime'].iloc[i] + timedelta(seconds = i*(1/sample_rate6))\n",
    "    "
   ]
  },
  {
   "cell_type": "code",
   "execution_count": 19,
   "metadata": {},
   "outputs": [
    {
     "data": {
      "text/html": [
       "<div>\n",
       "<style scoped>\n",
       "    .dataframe tbody tr th:only-of-type {\n",
       "        vertical-align: middle;\n",
       "    }\n",
       "\n",
       "    .dataframe tbody tr th {\n",
       "        vertical-align: top;\n",
       "    }\n",
       "\n",
       "    .dataframe thead th {\n",
       "        text-align: right;\n",
       "    }\n",
       "</style>\n",
       "<table border=\"1\" class=\"dataframe\">\n",
       "  <thead>\n",
       "    <tr style=\"text-align: right;\">\n",
       "      <th></th>\n",
       "      <th>acc_x</th>\n",
       "      <th>acc_y</th>\n",
       "      <th>acc_z</th>\n",
       "      <th>datetime</th>\n",
       "    </tr>\n",
       "  </thead>\n",
       "  <tbody>\n",
       "    <tr>\n",
       "      <th>0</th>\n",
       "      <td>-2</td>\n",
       "      <td>43</td>\n",
       "      <td>43</td>\n",
       "      <td>2022-02-07 09:27:41.000000</td>\n",
       "    </tr>\n",
       "    <tr>\n",
       "      <th>1</th>\n",
       "      <td>-2</td>\n",
       "      <td>44</td>\n",
       "      <td>46</td>\n",
       "      <td>2022-02-07 09:27:41.031250</td>\n",
       "    </tr>\n",
       "    <tr>\n",
       "      <th>2</th>\n",
       "      <td>2</td>\n",
       "      <td>44</td>\n",
       "      <td>47</td>\n",
       "      <td>2022-02-07 09:27:41.062500</td>\n",
       "    </tr>\n",
       "    <tr>\n",
       "      <th>3</th>\n",
       "      <td>3</td>\n",
       "      <td>43</td>\n",
       "      <td>44</td>\n",
       "      <td>2022-02-07 09:27:41.093750</td>\n",
       "    </tr>\n",
       "    <tr>\n",
       "      <th>4</th>\n",
       "      <td>1</td>\n",
       "      <td>43</td>\n",
       "      <td>45</td>\n",
       "      <td>2022-02-07 09:27:41.125000</td>\n",
       "    </tr>\n",
       "  </tbody>\n",
       "</table>\n",
       "</div>"
      ],
      "text/plain": [
       "   acc_x  acc_y  acc_z                   datetime\n",
       "0     -2     43     43 2022-02-07 09:27:41.000000\n",
       "1     -2     44     46 2022-02-07 09:27:41.031250\n",
       "2      2     44     47 2022-02-07 09:27:41.062500\n",
       "3      3     43     44 2022-02-07 09:27:41.093750\n",
       "4      1     43     45 2022-02-07 09:27:41.125000"
      ]
     },
     "execution_count": 19,
     "metadata": {},
     "output_type": "execute_result"
    }
   ],
   "source": [
    "acc.head()"
   ]
  },
  {
   "cell_type": "code",
   "execution_count": 20,
   "metadata": {},
   "outputs": [
    {
     "data": {
      "text/html": [
       "<div>\n",
       "<style scoped>\n",
       "    .dataframe tbody tr th:only-of-type {\n",
       "        vertical-align: middle;\n",
       "    }\n",
       "\n",
       "    .dataframe tbody tr th {\n",
       "        vertical-align: top;\n",
       "    }\n",
       "\n",
       "    .dataframe thead th {\n",
       "        text-align: right;\n",
       "    }\n",
       "</style>\n",
       "<table border=\"1\" class=\"dataframe\">\n",
       "  <thead>\n",
       "    <tr style=\"text-align: right;\">\n",
       "      <th></th>\n",
       "      <th>acc_x</th>\n",
       "      <th>acc_y</th>\n",
       "      <th>acc_z</th>\n",
       "      <th>datetime</th>\n",
       "    </tr>\n",
       "  </thead>\n",
       "  <tbody>\n",
       "    <tr>\n",
       "      <th>0</th>\n",
       "      <td>-3</td>\n",
       "      <td>-1</td>\n",
       "      <td>-63</td>\n",
       "      <td>2022-02-14 09:45:00.000000</td>\n",
       "    </tr>\n",
       "    <tr>\n",
       "      <th>1</th>\n",
       "      <td>-3</td>\n",
       "      <td>-1</td>\n",
       "      <td>-63</td>\n",
       "      <td>2022-02-14 09:45:00.031250</td>\n",
       "    </tr>\n",
       "    <tr>\n",
       "      <th>2</th>\n",
       "      <td>-3</td>\n",
       "      <td>-1</td>\n",
       "      <td>-63</td>\n",
       "      <td>2022-02-14 09:45:00.062500</td>\n",
       "    </tr>\n",
       "    <tr>\n",
       "      <th>3</th>\n",
       "      <td>-3</td>\n",
       "      <td>-1</td>\n",
       "      <td>-62</td>\n",
       "      <td>2022-02-14 09:45:00.093750</td>\n",
       "    </tr>\n",
       "    <tr>\n",
       "      <th>4</th>\n",
       "      <td>-3</td>\n",
       "      <td>-1</td>\n",
       "      <td>-62</td>\n",
       "      <td>2022-02-14 09:45:00.125000</td>\n",
       "    </tr>\n",
       "  </tbody>\n",
       "</table>\n",
       "</div>"
      ],
      "text/plain": [
       "   acc_x  acc_y  acc_z                   datetime\n",
       "0     -3     -1    -63 2022-02-14 09:45:00.000000\n",
       "1     -3     -1    -63 2022-02-14 09:45:00.031250\n",
       "2     -3     -1    -63 2022-02-14 09:45:00.062500\n",
       "3     -3     -1    -62 2022-02-14 09:45:00.093750\n",
       "4     -3     -1    -62 2022-02-14 09:45:00.125000"
      ]
     },
     "execution_count": 20,
     "metadata": {},
     "output_type": "execute_result"
    }
   ],
   "source": [
    "acc6.head()"
   ]
  },
  {
   "cell_type": "markdown",
   "metadata": {},
   "source": [
    "### Concatenate all dataframes as columns for each participant"
   ]
  },
  {
   "cell_type": "code",
   "execution_count": 21,
   "metadata": {},
   "outputs": [],
   "source": [
    "#Participant 01\n",
    "frames = [acc, temp, bvp, hr, ibi, eda]\n",
    "df = pd.concat(frames, axis=1, join=\"outer\")\n"
   ]
  },
  {
   "cell_type": "code",
   "execution_count": 22,
   "metadata": {},
   "outputs": [],
   "source": [
    "#Participant 02\n",
    "frames2 = [acc2, temp2, bvp2, hr2, ibi2, eda2]\n",
    "df2 = pd.concat(frames2, axis=1, join=\"outer\")\n"
   ]
  },
  {
   "cell_type": "code",
   "execution_count": 23,
   "metadata": {},
   "outputs": [],
   "source": [
    "#Participant 04\n",
    "frames4 = [acc4, temp4, bvp4, hr4, ibi4, eda4]\n",
    "df4 = pd.concat(frames4, axis=1, join=\"outer\")\n"
   ]
  },
  {
   "cell_type": "code",
   "execution_count": 144,
   "metadata": {},
   "outputs": [],
   "source": [
    "#Participant 06\n",
    "frames6 = [acc6, temp6, bvp6, hr6, ibi6, eda6]\n",
    "df6 = pd.concat(frames6, axis=1, join=\"outer\")\n"
   ]
  },
  {
   "cell_type": "code",
   "execution_count": 145,
   "metadata": {
    "scrolled": true
   },
   "outputs": [
    {
     "name": "stdout",
     "output_type": "stream",
     "text": [
      "                            acc_x  acc_y  acc_z                   datetime  \\\n",
      "datetime                                                                     \n",
      "2022-02-07 09:29:00.000000  -15.0   17.0   59.0 2022-02-07 09:29:00.000000   \n",
      "2022-02-07 09:29:00.031250  -15.0   16.0   59.0 2022-02-07 09:29:00.031250   \n",
      "2022-02-07 09:29:00.062500  -15.0   16.0   60.0 2022-02-07 09:29:00.062500   \n",
      "2022-02-07 09:29:00.093750  -16.0   16.0   59.0 2022-02-07 09:29:00.093750   \n",
      "2022-02-07 09:29:00.125000  -14.0   16.0   60.0 2022-02-07 09:29:00.125000   \n",
      "\n",
      "                            average_hr  new_temp  new_bvp   new_eda  label  \n",
      "datetime                                                                    \n",
      "2022-02-07 09:29:00.000000       74.35     28.53   -11.51  0.189626      1  \n",
      "2022-02-07 09:29:00.031250       74.35     28.53   -14.13  0.189626      1  \n",
      "2022-02-07 09:29:00.062500       74.35     28.53   -15.54  0.189626      1  \n",
      "2022-02-07 09:29:00.093750       74.35     28.53   -17.44  0.189626      1  \n",
      "2022-02-07 09:29:00.125000       74.35     28.53   -20.19  0.189626      1  \n",
      "                            acc_x  acc_y  acc_z                   datetime  \\\n",
      "datetime                                                                     \n",
      "2022-02-07 10:03:00.000000  -45.0  -13.0  -43.0 2022-02-07 10:03:00.000000   \n",
      "2022-02-07 10:03:00.031250  -45.0  -13.0  -43.0 2022-02-07 10:03:00.031250   \n",
      "2022-02-07 10:03:00.062500  -45.0  -13.0  -43.0 2022-02-07 10:03:00.062500   \n",
      "2022-02-07 10:03:00.093750  -45.0  -13.0  -43.0 2022-02-07 10:03:00.093750   \n",
      "2022-02-07 10:03:00.125000  -45.0  -13.0  -43.0 2022-02-07 10:03:00.125000   \n",
      "\n",
      "                            average_hr  new_temp  new_bvp   new_eda  label  \n",
      "datetime                                                                    \n",
      "2022-02-07 10:03:00.000000       70.47     35.89    16.50  0.314212      1  \n",
      "2022-02-07 10:03:00.031250       70.47     35.89    18.34  0.314212      1  \n",
      "2022-02-07 10:03:00.062500       70.47     35.89    12.68  0.314212      1  \n",
      "2022-02-07 10:03:00.093750       70.47     35.89     2.94  0.314212      1  \n",
      "2022-02-07 10:03:00.125000       70.47     35.89    -6.77  0.314212      1  \n"
     ]
    },
    {
     "data": {
      "text/html": [
       "<div>\n",
       "<style scoped>\n",
       "    .dataframe tbody tr th:only-of-type {\n",
       "        vertical-align: middle;\n",
       "    }\n",
       "\n",
       "    .dataframe tbody tr th {\n",
       "        vertical-align: top;\n",
       "    }\n",
       "\n",
       "    .dataframe thead th {\n",
       "        text-align: right;\n",
       "    }\n",
       "</style>\n",
       "<table border=\"1\" class=\"dataframe\">\n",
       "  <thead>\n",
       "    <tr style=\"text-align: right;\">\n",
       "      <th></th>\n",
       "      <th>acc_x</th>\n",
       "      <th>acc_y</th>\n",
       "      <th>acc_z</th>\n",
       "      <th>datetime</th>\n",
       "      <th>temp</th>\n",
       "      <th>bvp</th>\n",
       "      <th>avg_heart_rate</th>\n",
       "      <th>ibi_1</th>\n",
       "      <th>ibi_2</th>\n",
       "      <th>eda</th>\n",
       "    </tr>\n",
       "  </thead>\n",
       "  <tbody>\n",
       "    <tr>\n",
       "      <th>0</th>\n",
       "      <td>-3.0</td>\n",
       "      <td>-1.0</td>\n",
       "      <td>-63.0</td>\n",
       "      <td>2022-02-14 09:45:00.000000</td>\n",
       "      <td>27.73</td>\n",
       "      <td>-0.0</td>\n",
       "      <td>58.00</td>\n",
       "      <td>16.765625</td>\n",
       "      <td>0.812500</td>\n",
       "      <td>0.000000</td>\n",
       "    </tr>\n",
       "    <tr>\n",
       "      <th>1</th>\n",
       "      <td>-3.0</td>\n",
       "      <td>-1.0</td>\n",
       "      <td>-63.0</td>\n",
       "      <td>2022-02-14 09:45:00.031250</td>\n",
       "      <td>27.73</td>\n",
       "      <td>-0.0</td>\n",
       "      <td>61.00</td>\n",
       "      <td>17.562500</td>\n",
       "      <td>0.796875</td>\n",
       "      <td>0.105069</td>\n",
       "    </tr>\n",
       "    <tr>\n",
       "      <th>2</th>\n",
       "      <td>-3.0</td>\n",
       "      <td>-1.0</td>\n",
       "      <td>-63.0</td>\n",
       "      <td>2022-02-14 09:45:00.062500</td>\n",
       "      <td>27.73</td>\n",
       "      <td>-0.0</td>\n",
       "      <td>61.67</td>\n",
       "      <td>18.375000</td>\n",
       "      <td>0.812500</td>\n",
       "      <td>0.144790</td>\n",
       "    </tr>\n",
       "    <tr>\n",
       "      <th>3</th>\n",
       "      <td>-3.0</td>\n",
       "      <td>-1.0</td>\n",
       "      <td>-62.0</td>\n",
       "      <td>2022-02-14 09:45:00.093750</td>\n",
       "      <td>27.73</td>\n",
       "      <td>-0.0</td>\n",
       "      <td>62.75</td>\n",
       "      <td>19.156250</td>\n",
       "      <td>0.781250</td>\n",
       "      <td>0.142228</td>\n",
       "    </tr>\n",
       "    <tr>\n",
       "      <th>4</th>\n",
       "      <td>-3.0</td>\n",
       "      <td>-1.0</td>\n",
       "      <td>-62.0</td>\n",
       "      <td>2022-02-14 09:45:00.125000</td>\n",
       "      <td>27.73</td>\n",
       "      <td>-0.0</td>\n",
       "      <td>63.40</td>\n",
       "      <td>19.937500</td>\n",
       "      <td>0.781250</td>\n",
       "      <td>0.142228</td>\n",
       "    </tr>\n",
       "  </tbody>\n",
       "</table>\n",
       "</div>"
      ],
      "text/plain": [
       "   acc_x  acc_y  acc_z                   datetime   temp  bvp  avg_heart_rate  \\\n",
       "0   -3.0   -1.0  -63.0 2022-02-14 09:45:00.000000  27.73 -0.0           58.00   \n",
       "1   -3.0   -1.0  -63.0 2022-02-14 09:45:00.031250  27.73 -0.0           61.00   \n",
       "2   -3.0   -1.0  -63.0 2022-02-14 09:45:00.062500  27.73 -0.0           61.67   \n",
       "3   -3.0   -1.0  -62.0 2022-02-14 09:45:00.093750  27.73 -0.0           62.75   \n",
       "4   -3.0   -1.0  -62.0 2022-02-14 09:45:00.125000  27.73 -0.0           63.40   \n",
       "\n",
       "       ibi_1     ibi_2       eda  \n",
       "0  16.765625  0.812500  0.000000  \n",
       "1  17.562500  0.796875  0.105069  \n",
       "2  18.375000  0.812500  0.144790  \n",
       "3  19.156250  0.781250  0.142228  \n",
       "4  19.937500  0.781250  0.142228  "
      ]
     },
     "execution_count": 145,
     "metadata": {},
     "output_type": "execute_result"
    }
   ],
   "source": [
    "print(df.head())\n",
    "print(df2.head())\n",
    "df6.head()"
   ]
  },
  {
   "cell_type": "markdown",
   "metadata": {},
   "source": [
    "### Get the right data for each column, for all participants\n",
    "We obtained our datetime column by obtaining samples from the accelerometer, its sample rate is 32, we have to adjust other columns to reflect this:\n",
    "\n",
    "- For heart rate 'hr': every 32 rows represent a single value because it's sample rate is 1\n",
    "- For bvp: Every 2 values represent a single row because its sample rate is 64\n",
    "- For temperature \"temp\": every 8 rows represent a single value because it's sample rate is 4\n",
    "- For electrodermal activity \"eda\": every 8 rows represent a single value because it's sample rate is 4"
   ]
  },
  {
   "cell_type": "markdown",
   "metadata": {},
   "source": [
    "#### Participant 01"
   ]
  },
  {
   "cell_type": "code",
   "execution_count": 26,
   "metadata": {
    "scrolled": false
   },
   "outputs": [],
   "source": [
    "df['average_hr'] = np.NaN\n",
    "list_hr1 = []\n",
    "counter = 0\n",
    "df_loc10 = df.iloc[320:,:] # for participant 01, heart rate count starts 10 seconds after acc starts, which 320 rows\n",
    "#iterate through each heart rate sample\n",
    "for row in hr['avg_heart_rate']:\n",
    "    for index in df_loc10.index:\n",
    "        if counter <=31: #sample \n",
    "            list_hr1.append(row)\n",
    "            counter+=1\n",
    "            continue\n",
    "        else:\n",
    "            counter = 0\n",
    "            break\n",
    "        break\n",
    "        \n",
    "        \n",
    "list_temp1 = []\n",
    "counter = 0 \n",
    "for row in temp['temp']:\n",
    "    for index in df.index:\n",
    "        if counter <= 7:\n",
    "            list_temp1.append(row)\n",
    "            counter+=1\n",
    "            continue\n",
    "        else:\n",
    "            counter = 0\n",
    "            break\n",
    "        break\n",
    "\n",
    "        \n",
    "list_eda1 = []\n",
    "counter = 0 \n",
    "for row in eda['eda']:\n",
    "    for index in df.index:\n",
    "        if counter <= 7:\n",
    "            list_eda1.append(row)\n",
    "            counter+=1\n",
    "            continue\n",
    "        else:\n",
    "            counter = 0\n",
    "            break\n",
    "        break\n",
    "\n",
    "even_rows = bvp.iloc[::2]\n",
    "list_bvp1 = []\n",
    "num = 0\n",
    "for row in even_rows['bvp']:\n",
    "        list_bvp1.append(row)\n",
    "        \n",
    "    \n",
    "        "
   ]
  },
  {
   "cell_type": "markdown",
   "metadata": {},
   "source": [
    "#### Participant 02"
   ]
  },
  {
   "cell_type": "code",
   "execution_count": 27,
   "metadata": {},
   "outputs": [],
   "source": [
    "df2['average_hr'] = np.NaN\n",
    "list_hr2 = []\n",
    "counter2 = 0\n",
    "df2_loc10 = df2.iloc[320:,:] # for participant 02, heart rate count starts 10 seconds after acc starts, which 320 rows\n",
    "#iterate through each heart rate sample\n",
    "for row in hr2['avg_heart_rate']:\n",
    "    for index in df2_loc10.index:\n",
    "        if counter2 <=31: #sample \n",
    "            \n",
    "            \n",
    "            list_hr2.append(row)\n",
    "            counter2+=1\n",
    "            continue\n",
    "        else:\n",
    "            counter2 = 0\n",
    "            break\n",
    "        break\n",
    "\n",
    "                \n",
    "list_temp2 = []\n",
    "counter2 = 0 \n",
    "for row in temp2['temp']:\n",
    "    for index in df2.index:\n",
    "        if counter2 <= 7:\n",
    "            list_temp2.append(row)\n",
    "            counter2+=1\n",
    "            continue\n",
    "        else:\n",
    "            counter2 = 0\n",
    "            break\n",
    "        break\n",
    "\n",
    "        \n",
    "list_eda2 = []\n",
    "counter2 = 0 \n",
    "for row in eda2['eda']:\n",
    "    for index in df2.index:\n",
    "        if counter2 <= 7:\n",
    "            list_eda2.append(row)\n",
    "            counter2+=1\n",
    "            continue\n",
    "        else:\n",
    "            counter2 = 0\n",
    "            break\n",
    "        break\n",
    "\n",
    "even_rows2 = bvp2.iloc[::2]\n",
    "list_bvp2 = []\n",
    "num2 = 0\n",
    "for row in even_rows2['bvp']:\n",
    "        list_bvp2.append(row)\n",
    "        \n",
    "    "
   ]
  },
  {
   "cell_type": "markdown",
   "metadata": {},
   "source": [
    "#### Participant 04"
   ]
  },
  {
   "cell_type": "code",
   "execution_count": 28,
   "metadata": {},
   "outputs": [],
   "source": [
    "df4['average_hr'] = np.NaN\n",
    "list_hr4 = []\n",
    "counter4 = 0\n",
    "df4_loc10 = df4.iloc[320:,:] # for participant 04, heart rate count starts 10 seconds after acc starts, which 320 rows\n",
    "#iterate through each heart rate sample\n",
    "for row in hr4['avg_heart_rate']:\n",
    "    for index in df4_loc10.index:\n",
    "        if counter4 <=31: #sample \n",
    "            \n",
    "            \n",
    "            list_hr4.append(row)\n",
    "            counter4+=1\n",
    "            continue\n",
    "        else:\n",
    "            counter4 = 0\n",
    "            break\n",
    "        break\n",
    "\n",
    "                \n",
    "list_temp4 = []\n",
    "counter4 = 0 \n",
    "for row in temp4['temp']:\n",
    "    for index in df4.index:\n",
    "        if counter4 <= 7:\n",
    "            list_temp4.append(row)\n",
    "            counter4+=1\n",
    "            continue\n",
    "        else:\n",
    "            counter4 = 0\n",
    "            break\n",
    "        break\n",
    "\n",
    "        \n",
    "list_eda4 = []\n",
    "counter4 = 0 \n",
    "for row in eda4['eda']:\n",
    "    for index in df4.index:\n",
    "        if counter4 <= 7:\n",
    "            list_eda4.append(row)\n",
    "            counter4+=1\n",
    "            continue\n",
    "        else:\n",
    "            counter4 = 0\n",
    "            break\n",
    "        break\n",
    "\n",
    "even_rows4 = bvp4.iloc[::2]\n",
    "list_bvp4 = []\n",
    "num4 = 0\n",
    "for row in even_rows4['bvp']:\n",
    "        list_bvp4.append(row)\n",
    "        \n",
    "    "
   ]
  },
  {
   "cell_type": "markdown",
   "metadata": {},
   "source": [
    "#### Participant 06"
   ]
  },
  {
   "cell_type": "code",
   "execution_count": 146,
   "metadata": {},
   "outputs": [],
   "source": [
    "df6['average_hr'] = np.NaN\n",
    "list_hr6 = []\n",
    "counter6 = 0\n",
    "df6_loc10 = df6.iloc[320:,:] # for participant 06, heart rate count starts 10 seconds after acc starts, which is 320 rows \n",
    "#iterate through each heart rate sample\n",
    "for row in hr6['avg_heart_rate']:\n",
    "    for index in df6_loc10.index:\n",
    "        if counter6 <=31: #sample \n",
    "            \n",
    "            \n",
    "            list_hr6.append(row)\n",
    "            counter6+=1\n",
    "            continue\n",
    "        else:\n",
    "            counter6 = 0\n",
    "            break\n",
    "        break\n",
    "\n",
    "                \n",
    "list_temp6 = []\n",
    "counter6 = 0 \n",
    "for row in temp6['temp']:\n",
    "    for index in df6.index:\n",
    "        if counter6 <= 7:\n",
    "            list_temp6.append(row)\n",
    "            counter6+=1\n",
    "            continue\n",
    "        else:\n",
    "            counter6 = 0\n",
    "            break\n",
    "        break\n",
    "\n",
    "        \n",
    "list_eda6 = []\n",
    "counter6 = 0 \n",
    "for row in eda6['eda']:\n",
    "    for index in df6.index:\n",
    "        if counter6 <= 7:\n",
    "            list_eda6.append(row)\n",
    "            counter6+=1\n",
    "            continue\n",
    "        else:\n",
    "            counter6 = 0\n",
    "            break\n",
    "        break\n",
    "\n",
    "even_rows6 = bvp6.iloc[::2]\n",
    "list_bvp6 = []\n",
    "num6 = 0\n",
    "for row in even_rows6['bvp']:\n",
    "        list_bvp6.append(row)\n",
    "        \n",
    "    "
   ]
  },
  {
   "cell_type": "markdown",
   "metadata": {},
   "source": [
    "Append the lists to each participants respective dataframe"
   ]
  },
  {
   "cell_type": "code",
   "execution_count": 30,
   "metadata": {
    "scrolled": true
   },
   "outputs": [
    {
     "data": {
      "text/plain": [
       "103681"
      ]
     },
     "execution_count": 30,
     "metadata": {},
     "output_type": "execute_result"
    }
   ],
   "source": [
    "len(list_hr1[:len(df)-320])\n",
    "# len(df.loc[320:len(), 'average_hr'])\n",
    "len(df.loc[320:len(list_hr1), 'average_hr'])"
   ]
  },
  {
   "cell_type": "code",
   "execution_count": 147,
   "metadata": {},
   "outputs": [],
   "source": [
    "\n",
    "df.loc[320:len(list_hr1)+319, 'average_hr'] = list_hr1\n",
    "df2.loc[320:len(list_hr2)+319, 'average_hr'] = list_hr2\n",
    "df4.loc[320:len(list_hr4)+319, 'average_hr'] = list_hr4\n",
    "df6.loc[320:len(list_hr6)+319, 'average_hr'] = list_hr6\n",
    "\n",
    "df.loc[:len(list_temp1)-1,'new_temp'] = list_temp1\n",
    "df2.loc[:len(list_temp2)-1,'new_temp'] = list_temp2\n",
    "df4.loc[:len(list_temp4)-1,'new_temp'] = list_temp4\n",
    "df6.loc[:len(list_temp6)-1,'new_temp'] = list_temp6\n",
    "\n",
    "df.loc[:len(list_bvp1)-1,'new_bvp'] = list_bvp1\n",
    "df2.loc[:len(list_bvp2)-1,'new_bvp'] = list_bvp2\n",
    "df4.loc[:len(list_bvp4)-1,'new_bvp'] = list_bvp4\n",
    "df6.loc[:len(list_bvp6)-1,'new_bvp'] = list_bvp6\n",
    "\n",
    "df.loc[:len(list_eda1)-1,'new_eda'] = list_eda1\n",
    "df2.loc[:len(list_eda2)-1,'new_eda'] = list_eda2\n",
    "df4.loc[:len(list_eda4)-1,'new_eda'] = list_eda4\n",
    "df6.loc[:len(list_eda6)-1,'new_eda'] = list_eda6"
   ]
  },
  {
   "cell_type": "code",
   "execution_count": 148,
   "metadata": {},
   "outputs": [
    {
     "data": {
      "text/html": [
       "<div>\n",
       "<style scoped>\n",
       "    .dataframe tbody tr th:only-of-type {\n",
       "        vertical-align: middle;\n",
       "    }\n",
       "\n",
       "    .dataframe tbody tr th {\n",
       "        vertical-align: top;\n",
       "    }\n",
       "\n",
       "    .dataframe thead th {\n",
       "        text-align: right;\n",
       "    }\n",
       "</style>\n",
       "<table border=\"1\" class=\"dataframe\">\n",
       "  <thead>\n",
       "    <tr style=\"text-align: right;\">\n",
       "      <th></th>\n",
       "      <th>acc_x</th>\n",
       "      <th>acc_y</th>\n",
       "      <th>acc_z</th>\n",
       "      <th>datetime</th>\n",
       "      <th>temp</th>\n",
       "      <th>bvp</th>\n",
       "      <th>avg_heart_rate</th>\n",
       "      <th>ibi_1</th>\n",
       "      <th>ibi_2</th>\n",
       "      <th>eda</th>\n",
       "      <th>average_hr</th>\n",
       "      <th>new_temp</th>\n",
       "      <th>new_bvp</th>\n",
       "      <th>new_eda</th>\n",
       "    </tr>\n",
       "  </thead>\n",
       "  <tbody>\n",
       "    <tr>\n",
       "      <th>0</th>\n",
       "      <td>-3.0</td>\n",
       "      <td>-1.0</td>\n",
       "      <td>-63.0</td>\n",
       "      <td>2022-02-14 09:45:00.000000</td>\n",
       "      <td>27.73</td>\n",
       "      <td>-0.0</td>\n",
       "      <td>58.00</td>\n",
       "      <td>16.765625</td>\n",
       "      <td>0.812500</td>\n",
       "      <td>0.000000</td>\n",
       "      <td>NaN</td>\n",
       "      <td>27.73</td>\n",
       "      <td>-0.0</td>\n",
       "      <td>0.0</td>\n",
       "    </tr>\n",
       "    <tr>\n",
       "      <th>1</th>\n",
       "      <td>-3.0</td>\n",
       "      <td>-1.0</td>\n",
       "      <td>-63.0</td>\n",
       "      <td>2022-02-14 09:45:00.031250</td>\n",
       "      <td>27.73</td>\n",
       "      <td>-0.0</td>\n",
       "      <td>61.00</td>\n",
       "      <td>17.562500</td>\n",
       "      <td>0.796875</td>\n",
       "      <td>0.105069</td>\n",
       "      <td>NaN</td>\n",
       "      <td>27.73</td>\n",
       "      <td>-0.0</td>\n",
       "      <td>0.0</td>\n",
       "    </tr>\n",
       "    <tr>\n",
       "      <th>2</th>\n",
       "      <td>-3.0</td>\n",
       "      <td>-1.0</td>\n",
       "      <td>-63.0</td>\n",
       "      <td>2022-02-14 09:45:00.062500</td>\n",
       "      <td>27.73</td>\n",
       "      <td>-0.0</td>\n",
       "      <td>61.67</td>\n",
       "      <td>18.375000</td>\n",
       "      <td>0.812500</td>\n",
       "      <td>0.144790</td>\n",
       "      <td>NaN</td>\n",
       "      <td>27.73</td>\n",
       "      <td>-0.0</td>\n",
       "      <td>0.0</td>\n",
       "    </tr>\n",
       "    <tr>\n",
       "      <th>3</th>\n",
       "      <td>-3.0</td>\n",
       "      <td>-1.0</td>\n",
       "      <td>-62.0</td>\n",
       "      <td>2022-02-14 09:45:00.093750</td>\n",
       "      <td>27.73</td>\n",
       "      <td>-0.0</td>\n",
       "      <td>62.75</td>\n",
       "      <td>19.156250</td>\n",
       "      <td>0.781250</td>\n",
       "      <td>0.142228</td>\n",
       "      <td>NaN</td>\n",
       "      <td>27.73</td>\n",
       "      <td>-0.0</td>\n",
       "      <td>0.0</td>\n",
       "    </tr>\n",
       "    <tr>\n",
       "      <th>4</th>\n",
       "      <td>-3.0</td>\n",
       "      <td>-1.0</td>\n",
       "      <td>-62.0</td>\n",
       "      <td>2022-02-14 09:45:00.125000</td>\n",
       "      <td>27.73</td>\n",
       "      <td>-0.0</td>\n",
       "      <td>63.40</td>\n",
       "      <td>19.937500</td>\n",
       "      <td>0.781250</td>\n",
       "      <td>0.142228</td>\n",
       "      <td>NaN</td>\n",
       "      <td>27.73</td>\n",
       "      <td>-0.0</td>\n",
       "      <td>0.0</td>\n",
       "    </tr>\n",
       "  </tbody>\n",
       "</table>\n",
       "</div>"
      ],
      "text/plain": [
       "   acc_x  acc_y  acc_z                   datetime   temp  bvp  avg_heart_rate  \\\n",
       "0   -3.0   -1.0  -63.0 2022-02-14 09:45:00.000000  27.73 -0.0           58.00   \n",
       "1   -3.0   -1.0  -63.0 2022-02-14 09:45:00.031250  27.73 -0.0           61.00   \n",
       "2   -3.0   -1.0  -63.0 2022-02-14 09:45:00.062500  27.73 -0.0           61.67   \n",
       "3   -3.0   -1.0  -62.0 2022-02-14 09:45:00.093750  27.73 -0.0           62.75   \n",
       "4   -3.0   -1.0  -62.0 2022-02-14 09:45:00.125000  27.73 -0.0           63.40   \n",
       "\n",
       "       ibi_1     ibi_2       eda  average_hr  new_temp  new_bvp  new_eda  \n",
       "0  16.765625  0.812500  0.000000         NaN     27.73     -0.0      0.0  \n",
       "1  17.562500  0.796875  0.105069         NaN     27.73     -0.0      0.0  \n",
       "2  18.375000  0.812500  0.144790         NaN     27.73     -0.0      0.0  \n",
       "3  19.156250  0.781250  0.142228         NaN     27.73     -0.0      0.0  \n",
       "4  19.937500  0.781250  0.142228         NaN     27.73     -0.0      0.0  "
      ]
     },
     "execution_count": 148,
     "metadata": {},
     "output_type": "execute_result"
    }
   ],
   "source": [
    "df6.head()"
   ]
  },
  {
   "cell_type": "markdown",
   "metadata": {},
   "source": [
    "### Create our label from the questionnaire time logs for each participant\n",
    "column 'label' has two values, 1 if participant is stressed at a moment of time and 0 if not stressed"
   ]
  },
  {
   "cell_type": "markdown",
   "metadata": {},
   "source": [
    "#### Participant 01"
   ]
  },
  {
   "cell_type": "code",
   "execution_count": 55,
   "metadata": {
    "scrolled": false
   },
   "outputs": [
    {
     "data": {
      "text/plain": [
       "0.0    57600\n",
       "1.0    32643\n",
       "Name: label, dtype: int64"
      ]
     },
     "execution_count": 55,
     "metadata": {},
     "output_type": "execute_result"
    }
   ],
   "source": [
    "#initialise the label column\n",
    "df['label']=np.NaN\n",
    "\n",
    "#set datetime column as index, inorder to select the time period we need\n",
    "df.set_index(df['datetime'],inplace=True)\n",
    "\n",
    "#create a dataframe of rows that fall in the period of stress \n",
    "df_t1 = df.between_time('09:29', '09:34', include_start=True,include_end=True)\n",
    "df_t2 = df.between_time('09:44', '09:54', include_start=True,include_end=True)\n",
    "df_t3 = df.between_time('10:00', '10:02', include_start=True,include_end=True)\n",
    "\n",
    "\n",
    "frames = [df_t1,df_t2,df_t3]\n",
    "result = pd.concat(frames)\n",
    "#iterate through the new dataframe to update the label column value. \n",
    "for index in result.index:\n",
    "    df.loc[index,'label'] = 1\n",
    "    \n",
    "#create a dataframe of rows that fall in the period of rest \n",
    "df_t1 = df.between_time('09:34', '09:39', include_start=False,include_end=True)\n",
    "df_t2 = df.between_time('09:54', '09:59', include_start=False,include_end=True)\n",
    "df_t3 = df.between_time('10:02', '10:22', include_start=False,include_end=True)\n",
    "\n",
    "\n",
    "frames_ = [df_t1,df_t2,df_t3]\n",
    "result_ = pd.concat(frames_)\n",
    "#iterate through the new dataframe to update the label column value. \n",
    "for index in result_.index:\n",
    "    df.loc[index,'label'] = 0\n",
    "    \n",
    "df['label'].value_counts()"
   ]
  },
  {
   "cell_type": "markdown",
   "metadata": {},
   "source": [
    "#### Participant 02"
   ]
  },
  {
   "cell_type": "code",
   "execution_count": 56,
   "metadata": {},
   "outputs": [
    {
     "data": {
      "text/plain": [
       "0.0    57600\n",
       "1.0    34561\n",
       "Name: label, dtype: int64"
      ]
     },
     "execution_count": 56,
     "metadata": {},
     "output_type": "execute_result"
    }
   ],
   "source": [
    "#initialise the label column\n",
    "df2['label']=np.NaN\n",
    "\n",
    "#set datetime column as index, inorder to select the time period we need\n",
    "df2.set_index(df2['datetime'],inplace=True)\n",
    "\n",
    "#create a dataframe of rows that fall in the period of stress \n",
    "df2_t1 = df2.between_time('10:03', '10:08', include_start=True,include_end=True)\n",
    "df2_t2 = df2.between_time('10:13', '10:24', include_start=True,include_end=True)\n",
    "df2_t3 = df2.between_time('10:29', '10:31', include_start=True,include_end=True)\n",
    "\n",
    "\n",
    "frames2 = [df2_t1,df2_t2,df2_t3]\n",
    "result2 = pd.concat(frames2)\n",
    "#iterate through the new dataframe to update the label column value. \n",
    "for index in result2.index:\n",
    "    df2.loc[index,'label'] = 1\n",
    "    \n",
    "#create a dataframe of rows that fall in the period of rest \n",
    "df2_t1 = df2.between_time('10:08', '10:13', include_start=False,include_end=True)\n",
    "df2_t2 = df2.between_time('10:24', '10:29', include_start=False,include_end=True)\n",
    "df2_t3 = df2.between_time('10:31', '10:51', include_start=False,include_end=True)\n",
    "\n",
    "\n",
    "frames2_ = [df2_t1,df2_t2,df2_t3]\n",
    "result2_ = pd.concat(frames2_)\n",
    "#iterate through the new dataframe to update the label column value. \n",
    "for index in result2_.index:\n",
    "    df2.loc[index,'label'] = 0\n",
    "\n",
    "\n",
    "df2['label'].value_counts()"
   ]
  },
  {
   "cell_type": "markdown",
   "metadata": {},
   "source": [
    "#### Participant 04"
   ]
  },
  {
   "cell_type": "code",
   "execution_count": 57,
   "metadata": {},
   "outputs": [
    {
     "data": {
      "text/plain": [
       "0.0    59520\n",
       "1.0    32641\n",
       "Name: label, dtype: int64"
      ]
     },
     "execution_count": 57,
     "metadata": {},
     "output_type": "execute_result"
    }
   ],
   "source": [
    "#initialise the label column\n",
    "df4['label']=np.NaN\n",
    "\n",
    "#set datetime column as index, inorder to select the time period we need\n",
    "df4.set_index(df4['datetime'],inplace=True)\n",
    "\n",
    "#create a dataframe of rows that fall in the period of stress \n",
    "df4_t1 = df4.between_time('11:40', '11:45', include_start=True,include_end=True)\n",
    "df4_t2 = df4.between_time('11:50', '12:00', include_start=True,include_end=True)\n",
    "df4_t3 = df4.between_time('12:05', '12:07', include_start=True,include_end=True)\n",
    "\n",
    "\n",
    "frames4 = [df4_t1,df4_t2,df4_t3]\n",
    "result4 = pd.concat(frames4)\n",
    "#iterate through the new dataframe to update the label column value. \n",
    "for index in result4.index:\n",
    "    df4.loc[index,'label'] = 1\n",
    "    \n",
    "#create a dataframe of rows that fall in the period of rest \n",
    "df4_t1 = df4.between_time('11:45', '11:50', include_start=False,include_end=True)\n",
    "df4_t2 = df4.between_time('12:00', '12:05', include_start=False,include_end=True)\n",
    "df4_t3 = df4.between_time('12:07', '12:28', include_start=False,include_end=True)\n",
    "\n",
    "\n",
    "frames4_ = [df4_t1,df4_t2,df4_t3]\n",
    "result4_ = pd.concat(frames4_)\n",
    "#iterate through the new dataframe to update the label column value. \n",
    "for index in result4_.index:\n",
    "    df4.loc[index,'label'] = 0\n",
    "\n",
    "\n",
    "df4['label'].value_counts()"
   ]
  },
  {
   "cell_type": "markdown",
   "metadata": {},
   "source": [
    "#### Participant 06"
   ]
  },
  {
   "cell_type": "code",
   "execution_count": 149,
   "metadata": {},
   "outputs": [
    {
     "data": {
      "text/plain": [
       "0.0    48000\n",
       "1.0    36481\n",
       "Name: label, dtype: int64"
      ]
     },
     "execution_count": 149,
     "metadata": {},
     "output_type": "execute_result"
    }
   ],
   "source": [
    "#initialise the label column\n",
    "df6['label']=np.NaN\n",
    "\n",
    "#set datetime column as index, inorder to select the time period we need\n",
    "df6.set_index(df6['datetime'],inplace=True)\n",
    "\n",
    "#create a dataframe of rows that fall in the period of stress \n",
    "df6_t1 = df6.between_time('09:55', '10:01', include_start=True,include_end=True)\n",
    "df6_t2 = df6.between_time('10:07', '10:18', include_start=False,include_end=True)\n",
    "df6_t3 = df6.between_time('10:23', '10:25', include_start=True,include_end=True)\n",
    "\n",
    "\n",
    "frames6 = [df6_t1,df6_t2,df6_t3]\n",
    "result6 = pd.concat(frames6)\n",
    "#iterate through the new dataframe to update the label column value. \n",
    "for index in result6.index:\n",
    "    df6.loc[index,'label'] = 1\n",
    "    \n",
    "#create a dataframe of rows that fall in the period of rest \n",
    "df6_t1 = df6.between_time('10:02', '10:07', include_start=False,include_end=True)\n",
    "df6_t2 = df6.between_time('10:18', '10:23', include_start=False,include_end=True)\n",
    "df6_t3 = df6.between_time('10:25', '10:40', include_start=False,include_end=True)\n",
    "\n",
    "\n",
    "frames6_ = [df6_t1,df6_t2,df6_t3]\n",
    "result6_ = pd.concat(frames6_)\n",
    "#iterate through the new dataframe to update the label column value. \n",
    "for index in result6_.index:\n",
    "    df6.loc[index,'label'] = 0\n",
    "\n",
    "\n",
    "df6['label'].value_counts()"
   ]
  },
  {
   "cell_type": "markdown",
   "metadata": {},
   "source": [
    "# Data Cleaning"
   ]
  },
  {
   "cell_type": "markdown",
   "metadata": {},
   "source": [
    "Check if data is clean"
   ]
  },
  {
   "cell_type": "code",
   "execution_count": 67,
   "metadata": {},
   "outputs": [
    {
     "data": {
      "text/html": [
       "<div>\n",
       "<style scoped>\n",
       "    .dataframe tbody tr th:only-of-type {\n",
       "        vertical-align: middle;\n",
       "    }\n",
       "\n",
       "    .dataframe tbody tr th {\n",
       "        vertical-align: top;\n",
       "    }\n",
       "\n",
       "    .dataframe thead th {\n",
       "        text-align: right;\n",
       "    }\n",
       "</style>\n",
       "<table border=\"1\" class=\"dataframe\">\n",
       "  <thead>\n",
       "    <tr style=\"text-align: right;\">\n",
       "      <th></th>\n",
       "      <th>acc_x</th>\n",
       "      <th>acc_y</th>\n",
       "      <th>acc_z</th>\n",
       "      <th>datetime</th>\n",
       "      <th>temp</th>\n",
       "      <th>bvp</th>\n",
       "      <th>avg_heart_rate</th>\n",
       "      <th>ibi_1</th>\n",
       "      <th>ibi_2</th>\n",
       "      <th>eda</th>\n",
       "      <th>average_hr</th>\n",
       "      <th>new_temp</th>\n",
       "      <th>new_bvp</th>\n",
       "      <th>new_eda</th>\n",
       "      <th>label</th>\n",
       "    </tr>\n",
       "  </thead>\n",
       "  <tbody>\n",
       "    <tr>\n",
       "      <th>0</th>\n",
       "      <td>-2.0</td>\n",
       "      <td>43.0</td>\n",
       "      <td>43.0</td>\n",
       "      <td>2022-02-07 09:27:41.000000</td>\n",
       "      <td>28.39</td>\n",
       "      <td>0.0</td>\n",
       "      <td>83.00</td>\n",
       "      <td>36.343750</td>\n",
       "      <td>0.859375</td>\n",
       "      <td>0.000000</td>\n",
       "      <td>NaN</td>\n",
       "      <td>28.39</td>\n",
       "      <td>0.0</td>\n",
       "      <td>0.0</td>\n",
       "      <td>NaN</td>\n",
       "    </tr>\n",
       "    <tr>\n",
       "      <th>1</th>\n",
       "      <td>-2.0</td>\n",
       "      <td>44.0</td>\n",
       "      <td>46.0</td>\n",
       "      <td>2022-02-07 09:27:41.031250</td>\n",
       "      <td>28.39</td>\n",
       "      <td>0.0</td>\n",
       "      <td>83.00</td>\n",
       "      <td>37.296875</td>\n",
       "      <td>0.953125</td>\n",
       "      <td>0.112750</td>\n",
       "      <td>NaN</td>\n",
       "      <td>28.39</td>\n",
       "      <td>0.0</td>\n",
       "      <td>0.0</td>\n",
       "      <td>NaN</td>\n",
       "    </tr>\n",
       "    <tr>\n",
       "      <th>2</th>\n",
       "      <td>2.0</td>\n",
       "      <td>44.0</td>\n",
       "      <td>47.0</td>\n",
       "      <td>2022-02-07 09:27:41.062500</td>\n",
       "      <td>28.39</td>\n",
       "      <td>0.0</td>\n",
       "      <td>72.67</td>\n",
       "      <td>38.187500</td>\n",
       "      <td>0.890625</td>\n",
       "      <td>0.166563</td>\n",
       "      <td>NaN</td>\n",
       "      <td>28.39</td>\n",
       "      <td>0.0</td>\n",
       "      <td>0.0</td>\n",
       "      <td>NaN</td>\n",
       "    </tr>\n",
       "    <tr>\n",
       "      <th>3</th>\n",
       "      <td>3.0</td>\n",
       "      <td>43.0</td>\n",
       "      <td>44.0</td>\n",
       "      <td>2022-02-07 09:27:41.093750</td>\n",
       "      <td>28.39</td>\n",
       "      <td>0.0</td>\n",
       "      <td>87.00</td>\n",
       "      <td>39.046875</td>\n",
       "      <td>0.859375</td>\n",
       "      <td>0.167844</td>\n",
       "      <td>NaN</td>\n",
       "      <td>28.39</td>\n",
       "      <td>0.0</td>\n",
       "      <td>0.0</td>\n",
       "      <td>NaN</td>\n",
       "    </tr>\n",
       "    <tr>\n",
       "      <th>4</th>\n",
       "      <td>1.0</td>\n",
       "      <td>43.0</td>\n",
       "      <td>45.0</td>\n",
       "      <td>2022-02-07 09:27:41.125000</td>\n",
       "      <td>28.39</td>\n",
       "      <td>0.0</td>\n",
       "      <td>80.00</td>\n",
       "      <td>39.859375</td>\n",
       "      <td>0.812500</td>\n",
       "      <td>0.167844</td>\n",
       "      <td>NaN</td>\n",
       "      <td>28.39</td>\n",
       "      <td>0.0</td>\n",
       "      <td>0.0</td>\n",
       "      <td>NaN</td>\n",
       "    </tr>\n",
       "  </tbody>\n",
       "</table>\n",
       "</div>"
      ],
      "text/plain": [
       "   acc_x  acc_y  acc_z                   datetime   temp  bvp  avg_heart_rate  \\\n",
       "0   -2.0   43.0   43.0 2022-02-07 09:27:41.000000  28.39  0.0           83.00   \n",
       "1   -2.0   44.0   46.0 2022-02-07 09:27:41.031250  28.39  0.0           83.00   \n",
       "2    2.0   44.0   47.0 2022-02-07 09:27:41.062500  28.39  0.0           72.67   \n",
       "3    3.0   43.0   44.0 2022-02-07 09:27:41.093750  28.39  0.0           87.00   \n",
       "4    1.0   43.0   45.0 2022-02-07 09:27:41.125000  28.39  0.0           80.00   \n",
       "\n",
       "       ibi_1     ibi_2       eda  average_hr  new_temp  new_bvp  new_eda  \\\n",
       "0  36.343750  0.859375  0.000000         NaN     28.39      0.0      0.0   \n",
       "1  37.296875  0.953125  0.112750         NaN     28.39      0.0      0.0   \n",
       "2  38.187500  0.890625  0.166563         NaN     28.39      0.0      0.0   \n",
       "3  39.046875  0.859375  0.167844         NaN     28.39      0.0      0.0   \n",
       "4  39.859375  0.812500  0.167844         NaN     28.39      0.0      0.0   \n",
       "\n",
       "   label  \n",
       "0    NaN  \n",
       "1    NaN  \n",
       "2    NaN  \n",
       "3    NaN  \n",
       "4    NaN  "
      ]
     },
     "execution_count": 67,
     "metadata": {},
     "output_type": "execute_result"
    }
   ],
   "source": [
    "df.reset_index(inplace=True,drop=True)\n",
    "df.head()"
   ]
  },
  {
   "cell_type": "code",
   "execution_count": 66,
   "metadata": {
    "scrolled": false
   },
   "outputs": [
    {
     "data": {
      "text/html": [
       "<div>\n",
       "<style scoped>\n",
       "    .dataframe tbody tr th:only-of-type {\n",
       "        vertical-align: middle;\n",
       "    }\n",
       "\n",
       "    .dataframe tbody tr th {\n",
       "        vertical-align: top;\n",
       "    }\n",
       "\n",
       "    .dataframe thead th {\n",
       "        text-align: right;\n",
       "    }\n",
       "</style>\n",
       "<table border=\"1\" class=\"dataframe\">\n",
       "  <thead>\n",
       "    <tr style=\"text-align: right;\">\n",
       "      <th></th>\n",
       "      <th>acc_x</th>\n",
       "      <th>acc_y</th>\n",
       "      <th>acc_z</th>\n",
       "      <th>datetime</th>\n",
       "      <th>temp</th>\n",
       "      <th>bvp</th>\n",
       "      <th>avg_heart_rate</th>\n",
       "      <th>ibi_1</th>\n",
       "      <th>ibi_2</th>\n",
       "      <th>eda</th>\n",
       "      <th>average_hr</th>\n",
       "      <th>new_temp</th>\n",
       "      <th>new_bvp</th>\n",
       "      <th>new_eda</th>\n",
       "      <th>label</th>\n",
       "    </tr>\n",
       "  </thead>\n",
       "  <tbody>\n",
       "    <tr>\n",
       "      <th>0</th>\n",
       "      <td>2.0</td>\n",
       "      <td>10.0</td>\n",
       "      <td>63.0</td>\n",
       "      <td>2022-02-07 09:52:54.000000</td>\n",
       "      <td>34.79</td>\n",
       "      <td>-0.0</td>\n",
       "      <td>118.00</td>\n",
       "      <td>604.937500</td>\n",
       "      <td>0.937500</td>\n",
       "      <td>0.000000</td>\n",
       "      <td>NaN</td>\n",
       "      <td>34.79</td>\n",
       "      <td>-0.0</td>\n",
       "      <td>0.0</td>\n",
       "      <td>NaN</td>\n",
       "    </tr>\n",
       "    <tr>\n",
       "      <th>1</th>\n",
       "      <td>4.0</td>\n",
       "      <td>12.0</td>\n",
       "      <td>66.0</td>\n",
       "      <td>2022-02-07 09:52:54.031250</td>\n",
       "      <td>34.79</td>\n",
       "      <td>-0.0</td>\n",
       "      <td>113.50</td>\n",
       "      <td>605.687500</td>\n",
       "      <td>0.750000</td>\n",
       "      <td>0.622764</td>\n",
       "      <td>NaN</td>\n",
       "      <td>34.79</td>\n",
       "      <td>-0.0</td>\n",
       "      <td>0.0</td>\n",
       "      <td>NaN</td>\n",
       "    </tr>\n",
       "    <tr>\n",
       "      <th>2</th>\n",
       "      <td>-1.0</td>\n",
       "      <td>13.0</td>\n",
       "      <td>63.0</td>\n",
       "      <td>2022-02-07 09:52:54.062500</td>\n",
       "      <td>34.79</td>\n",
       "      <td>-0.0</td>\n",
       "      <td>93.00</td>\n",
       "      <td>609.562500</td>\n",
       "      <td>0.859375</td>\n",
       "      <td>0.759875</td>\n",
       "      <td>NaN</td>\n",
       "      <td>34.79</td>\n",
       "      <td>-0.0</td>\n",
       "      <td>0.0</td>\n",
       "      <td>NaN</td>\n",
       "    </tr>\n",
       "    <tr>\n",
       "      <th>3</th>\n",
       "      <td>-7.0</td>\n",
       "      <td>11.0</td>\n",
       "      <td>59.0</td>\n",
       "      <td>2022-02-07 09:52:54.093750</td>\n",
       "      <td>34.79</td>\n",
       "      <td>-0.0</td>\n",
       "      <td>93.25</td>\n",
       "      <td>644.765625</td>\n",
       "      <td>0.875000</td>\n",
       "      <td>0.883157</td>\n",
       "      <td>NaN</td>\n",
       "      <td>34.79</td>\n",
       "      <td>-0.0</td>\n",
       "      <td>0.0</td>\n",
       "      <td>NaN</td>\n",
       "    </tr>\n",
       "    <tr>\n",
       "      <th>4</th>\n",
       "      <td>-7.0</td>\n",
       "      <td>6.0</td>\n",
       "      <td>57.0</td>\n",
       "      <td>2022-02-07 09:52:54.125000</td>\n",
       "      <td>34.79</td>\n",
       "      <td>-0.0</td>\n",
       "      <td>86.40</td>\n",
       "      <td>645.640625</td>\n",
       "      <td>0.875000</td>\n",
       "      <td>0.646097</td>\n",
       "      <td>NaN</td>\n",
       "      <td>34.79</td>\n",
       "      <td>-0.0</td>\n",
       "      <td>0.0</td>\n",
       "      <td>NaN</td>\n",
       "    </tr>\n",
       "  </tbody>\n",
       "</table>\n",
       "</div>"
      ],
      "text/plain": [
       "   acc_x  acc_y  acc_z                   datetime   temp  bvp  avg_heart_rate  \\\n",
       "0    2.0   10.0   63.0 2022-02-07 09:52:54.000000  34.79 -0.0          118.00   \n",
       "1    4.0   12.0   66.0 2022-02-07 09:52:54.031250  34.79 -0.0          113.50   \n",
       "2   -1.0   13.0   63.0 2022-02-07 09:52:54.062500  34.79 -0.0           93.00   \n",
       "3   -7.0   11.0   59.0 2022-02-07 09:52:54.093750  34.79 -0.0           93.25   \n",
       "4   -7.0    6.0   57.0 2022-02-07 09:52:54.125000  34.79 -0.0           86.40   \n",
       "\n",
       "        ibi_1     ibi_2       eda  average_hr  new_temp  new_bvp  new_eda  \\\n",
       "0  604.937500  0.937500  0.000000         NaN     34.79     -0.0      0.0   \n",
       "1  605.687500  0.750000  0.622764         NaN     34.79     -0.0      0.0   \n",
       "2  609.562500  0.859375  0.759875         NaN     34.79     -0.0      0.0   \n",
       "3  644.765625  0.875000  0.883157         NaN     34.79     -0.0      0.0   \n",
       "4  645.640625  0.875000  0.646097         NaN     34.79     -0.0      0.0   \n",
       "\n",
       "   label  \n",
       "0    NaN  \n",
       "1    NaN  \n",
       "2    NaN  \n",
       "3    NaN  \n",
       "4    NaN  "
      ]
     },
     "execution_count": 66,
     "metadata": {},
     "output_type": "execute_result"
    }
   ],
   "source": [
    "df2.reset_index(inplace=True,drop=True)\n",
    "df2.head()"
   ]
  },
  {
   "cell_type": "code",
   "execution_count": 65,
   "metadata": {
    "scrolled": true
   },
   "outputs": [
    {
     "data": {
      "text/html": [
       "<div>\n",
       "<style scoped>\n",
       "    .dataframe tbody tr th:only-of-type {\n",
       "        vertical-align: middle;\n",
       "    }\n",
       "\n",
       "    .dataframe tbody tr th {\n",
       "        vertical-align: top;\n",
       "    }\n",
       "\n",
       "    .dataframe thead th {\n",
       "        text-align: right;\n",
       "    }\n",
       "</style>\n",
       "<table border=\"1\" class=\"dataframe\">\n",
       "  <thead>\n",
       "    <tr style=\"text-align: right;\">\n",
       "      <th></th>\n",
       "      <th>acc_x</th>\n",
       "      <th>acc_y</th>\n",
       "      <th>acc_z</th>\n",
       "      <th>datetime</th>\n",
       "      <th>temp</th>\n",
       "      <th>bvp</th>\n",
       "      <th>avg_heart_rate</th>\n",
       "      <th>ibi_1</th>\n",
       "      <th>ibi_2</th>\n",
       "      <th>eda</th>\n",
       "      <th>average_hr</th>\n",
       "      <th>new_temp</th>\n",
       "      <th>new_bvp</th>\n",
       "      <th>new_eda</th>\n",
       "      <th>label</th>\n",
       "    </tr>\n",
       "  </thead>\n",
       "  <tbody>\n",
       "    <tr>\n",
       "      <th>0</th>\n",
       "      <td>-23.0</td>\n",
       "      <td>7.0</td>\n",
       "      <td>59.0</td>\n",
       "      <td>2022-02-07 11:29:49.000000</td>\n",
       "      <td>33.99</td>\n",
       "      <td>-0.0</td>\n",
       "      <td>83.00</td>\n",
       "      <td>21.406250</td>\n",
       "      <td>0.750000</td>\n",
       "      <td>0.000000</td>\n",
       "      <td>NaN</td>\n",
       "      <td>33.99</td>\n",
       "      <td>-0.0</td>\n",
       "      <td>0.0</td>\n",
       "      <td>NaN</td>\n",
       "    </tr>\n",
       "    <tr>\n",
       "      <th>1</th>\n",
       "      <td>-23.0</td>\n",
       "      <td>7.0</td>\n",
       "      <td>59.0</td>\n",
       "      <td>2022-02-07 11:29:49.031250</td>\n",
       "      <td>33.99</td>\n",
       "      <td>-0.0</td>\n",
       "      <td>83.00</td>\n",
       "      <td>22.140625</td>\n",
       "      <td>0.734375</td>\n",
       "      <td>0.831534</td>\n",
       "      <td>NaN</td>\n",
       "      <td>33.99</td>\n",
       "      <td>-0.0</td>\n",
       "      <td>0.0</td>\n",
       "      <td>NaN</td>\n",
       "    </tr>\n",
       "    <tr>\n",
       "      <th>2</th>\n",
       "      <td>-23.0</td>\n",
       "      <td>7.0</td>\n",
       "      <td>59.0</td>\n",
       "      <td>2022-02-07 11:29:49.062500</td>\n",
       "      <td>33.99</td>\n",
       "      <td>-0.0</td>\n",
       "      <td>75.33</td>\n",
       "      <td>22.843750</td>\n",
       "      <td>0.703125</td>\n",
       "      <td>1.177739</td>\n",
       "      <td>NaN</td>\n",
       "      <td>33.99</td>\n",
       "      <td>-0.0</td>\n",
       "      <td>0.0</td>\n",
       "      <td>NaN</td>\n",
       "    </tr>\n",
       "    <tr>\n",
       "      <th>3</th>\n",
       "      <td>-23.0</td>\n",
       "      <td>7.0</td>\n",
       "      <td>59.0</td>\n",
       "      <td>2022-02-07 11:29:49.093750</td>\n",
       "      <td>33.99</td>\n",
       "      <td>-0.0</td>\n",
       "      <td>70.50</td>\n",
       "      <td>23.546875</td>\n",
       "      <td>0.703125</td>\n",
       "      <td>1.008683</td>\n",
       "      <td>NaN</td>\n",
       "      <td>33.99</td>\n",
       "      <td>-0.0</td>\n",
       "      <td>0.0</td>\n",
       "      <td>NaN</td>\n",
       "    </tr>\n",
       "    <tr>\n",
       "      <th>4</th>\n",
       "      <td>-22.0</td>\n",
       "      <td>7.0</td>\n",
       "      <td>59.0</td>\n",
       "      <td>2022-02-07 11:29:49.125000</td>\n",
       "      <td>33.99</td>\n",
       "      <td>-0.0</td>\n",
       "      <td>67.40</td>\n",
       "      <td>24.250000</td>\n",
       "      <td>0.703125</td>\n",
       "      <td>1.006120</td>\n",
       "      <td>NaN</td>\n",
       "      <td>33.99</td>\n",
       "      <td>-0.0</td>\n",
       "      <td>0.0</td>\n",
       "      <td>NaN</td>\n",
       "    </tr>\n",
       "  </tbody>\n",
       "</table>\n",
       "</div>"
      ],
      "text/plain": [
       "   acc_x  acc_y  acc_z                   datetime   temp  bvp  avg_heart_rate  \\\n",
       "0  -23.0    7.0   59.0 2022-02-07 11:29:49.000000  33.99 -0.0           83.00   \n",
       "1  -23.0    7.0   59.0 2022-02-07 11:29:49.031250  33.99 -0.0           83.00   \n",
       "2  -23.0    7.0   59.0 2022-02-07 11:29:49.062500  33.99 -0.0           75.33   \n",
       "3  -23.0    7.0   59.0 2022-02-07 11:29:49.093750  33.99 -0.0           70.50   \n",
       "4  -22.0    7.0   59.0 2022-02-07 11:29:49.125000  33.99 -0.0           67.40   \n",
       "\n",
       "       ibi_1     ibi_2       eda  average_hr  new_temp  new_bvp  new_eda  \\\n",
       "0  21.406250  0.750000  0.000000         NaN     33.99     -0.0      0.0   \n",
       "1  22.140625  0.734375  0.831534         NaN     33.99     -0.0      0.0   \n",
       "2  22.843750  0.703125  1.177739         NaN     33.99     -0.0      0.0   \n",
       "3  23.546875  0.703125  1.008683         NaN     33.99     -0.0      0.0   \n",
       "4  24.250000  0.703125  1.006120         NaN     33.99     -0.0      0.0   \n",
       "\n",
       "   label  \n",
       "0    NaN  \n",
       "1    NaN  \n",
       "2    NaN  \n",
       "3    NaN  \n",
       "4    NaN  "
      ]
     },
     "execution_count": 65,
     "metadata": {},
     "output_type": "execute_result"
    }
   ],
   "source": [
    "df4.reset_index(inplace=True,drop=True)\n",
    "df4.head()"
   ]
  },
  {
   "cell_type": "code",
   "execution_count": 150,
   "metadata": {
    "scrolled": false
   },
   "outputs": [
    {
     "data": {
      "text/html": [
       "<div>\n",
       "<style scoped>\n",
       "    .dataframe tbody tr th:only-of-type {\n",
       "        vertical-align: middle;\n",
       "    }\n",
       "\n",
       "    .dataframe tbody tr th {\n",
       "        vertical-align: top;\n",
       "    }\n",
       "\n",
       "    .dataframe thead th {\n",
       "        text-align: right;\n",
       "    }\n",
       "</style>\n",
       "<table border=\"1\" class=\"dataframe\">\n",
       "  <thead>\n",
       "    <tr style=\"text-align: right;\">\n",
       "      <th></th>\n",
       "      <th>acc_x</th>\n",
       "      <th>acc_y</th>\n",
       "      <th>acc_z</th>\n",
       "      <th>datetime</th>\n",
       "      <th>temp</th>\n",
       "      <th>bvp</th>\n",
       "      <th>avg_heart_rate</th>\n",
       "      <th>ibi_1</th>\n",
       "      <th>ibi_2</th>\n",
       "      <th>eda</th>\n",
       "      <th>average_hr</th>\n",
       "      <th>new_temp</th>\n",
       "      <th>new_bvp</th>\n",
       "      <th>new_eda</th>\n",
       "      <th>label</th>\n",
       "    </tr>\n",
       "  </thead>\n",
       "  <tbody>\n",
       "    <tr>\n",
       "      <th>0</th>\n",
       "      <td>-3.0</td>\n",
       "      <td>-1.0</td>\n",
       "      <td>-63.0</td>\n",
       "      <td>2022-02-14 09:45:00.000000</td>\n",
       "      <td>27.73</td>\n",
       "      <td>-0.0</td>\n",
       "      <td>58.00</td>\n",
       "      <td>16.765625</td>\n",
       "      <td>0.812500</td>\n",
       "      <td>0.000000</td>\n",
       "      <td>NaN</td>\n",
       "      <td>27.73</td>\n",
       "      <td>-0.0</td>\n",
       "      <td>0.0</td>\n",
       "      <td>NaN</td>\n",
       "    </tr>\n",
       "    <tr>\n",
       "      <th>1</th>\n",
       "      <td>-3.0</td>\n",
       "      <td>-1.0</td>\n",
       "      <td>-63.0</td>\n",
       "      <td>2022-02-14 09:45:00.031250</td>\n",
       "      <td>27.73</td>\n",
       "      <td>-0.0</td>\n",
       "      <td>61.00</td>\n",
       "      <td>17.562500</td>\n",
       "      <td>0.796875</td>\n",
       "      <td>0.105069</td>\n",
       "      <td>NaN</td>\n",
       "      <td>27.73</td>\n",
       "      <td>-0.0</td>\n",
       "      <td>0.0</td>\n",
       "      <td>NaN</td>\n",
       "    </tr>\n",
       "    <tr>\n",
       "      <th>2</th>\n",
       "      <td>-3.0</td>\n",
       "      <td>-1.0</td>\n",
       "      <td>-63.0</td>\n",
       "      <td>2022-02-14 09:45:00.062500</td>\n",
       "      <td>27.73</td>\n",
       "      <td>-0.0</td>\n",
       "      <td>61.67</td>\n",
       "      <td>18.375000</td>\n",
       "      <td>0.812500</td>\n",
       "      <td>0.144790</td>\n",
       "      <td>NaN</td>\n",
       "      <td>27.73</td>\n",
       "      <td>-0.0</td>\n",
       "      <td>0.0</td>\n",
       "      <td>NaN</td>\n",
       "    </tr>\n",
       "    <tr>\n",
       "      <th>3</th>\n",
       "      <td>-3.0</td>\n",
       "      <td>-1.0</td>\n",
       "      <td>-62.0</td>\n",
       "      <td>2022-02-14 09:45:00.093750</td>\n",
       "      <td>27.73</td>\n",
       "      <td>-0.0</td>\n",
       "      <td>62.75</td>\n",
       "      <td>19.156250</td>\n",
       "      <td>0.781250</td>\n",
       "      <td>0.142228</td>\n",
       "      <td>NaN</td>\n",
       "      <td>27.73</td>\n",
       "      <td>-0.0</td>\n",
       "      <td>0.0</td>\n",
       "      <td>NaN</td>\n",
       "    </tr>\n",
       "    <tr>\n",
       "      <th>4</th>\n",
       "      <td>-3.0</td>\n",
       "      <td>-1.0</td>\n",
       "      <td>-62.0</td>\n",
       "      <td>2022-02-14 09:45:00.125000</td>\n",
       "      <td>27.73</td>\n",
       "      <td>-0.0</td>\n",
       "      <td>63.40</td>\n",
       "      <td>19.937500</td>\n",
       "      <td>0.781250</td>\n",
       "      <td>0.142228</td>\n",
       "      <td>NaN</td>\n",
       "      <td>27.73</td>\n",
       "      <td>-0.0</td>\n",
       "      <td>0.0</td>\n",
       "      <td>NaN</td>\n",
       "    </tr>\n",
       "  </tbody>\n",
       "</table>\n",
       "</div>"
      ],
      "text/plain": [
       "   acc_x  acc_y  acc_z                   datetime   temp  bvp  avg_heart_rate  \\\n",
       "0   -3.0   -1.0  -63.0 2022-02-14 09:45:00.000000  27.73 -0.0           58.00   \n",
       "1   -3.0   -1.0  -63.0 2022-02-14 09:45:00.031250  27.73 -0.0           61.00   \n",
       "2   -3.0   -1.0  -63.0 2022-02-14 09:45:00.062500  27.73 -0.0           61.67   \n",
       "3   -3.0   -1.0  -62.0 2022-02-14 09:45:00.093750  27.73 -0.0           62.75   \n",
       "4   -3.0   -1.0  -62.0 2022-02-14 09:45:00.125000  27.73 -0.0           63.40   \n",
       "\n",
       "       ibi_1     ibi_2       eda  average_hr  new_temp  new_bvp  new_eda  \\\n",
       "0  16.765625  0.812500  0.000000         NaN     27.73     -0.0      0.0   \n",
       "1  17.562500  0.796875  0.105069         NaN     27.73     -0.0      0.0   \n",
       "2  18.375000  0.812500  0.144790         NaN     27.73     -0.0      0.0   \n",
       "3  19.156250  0.781250  0.142228         NaN     27.73     -0.0      0.0   \n",
       "4  19.937500  0.781250  0.142228         NaN     27.73     -0.0      0.0   \n",
       "\n",
       "   label  \n",
       "0    NaN  \n",
       "1    NaN  \n",
       "2    NaN  \n",
       "3    NaN  \n",
       "4    NaN  "
      ]
     },
     "execution_count": 150,
     "metadata": {},
     "output_type": "execute_result"
    }
   ],
   "source": [
    "df6.reset_index(inplace=True,drop=True)\n",
    "df6.head()"
   ]
  },
  {
   "cell_type": "markdown",
   "metadata": {},
   "source": [
    "1st, we'll remove the wrong columns for each dataset\n",
    "   \n"
   ]
  },
  {
   "cell_type": "code",
   "execution_count": 151,
   "metadata": {},
   "outputs": [],
   "source": [
    "df.drop(columns=['temp','bvp','avg_heart_rate','eda'],inplace=True)\n",
    "df2.drop(columns=['temp','bvp','avg_heart_rate','eda'],inplace=True)\n",
    "df4.drop(columns=['temp','bvp','avg_heart_rate','eda'],inplace=True)\n",
    "df6.drop(columns=['temp','bvp','avg_heart_rate','eda'],inplace=True)"
   ]
  },
  {
   "cell_type": "markdown",
   "metadata": {},
   "source": [
    "2nd, we'll remove rows in which the column 'label'  is NaN, because they won't be useful for our modelling\n"
   ]
  },
  {
   "cell_type": "code",
   "execution_count": 69,
   "metadata": {},
   "outputs": [
    {
     "data": {
      "text/plain": [
       "(208703, 11)"
      ]
     },
     "execution_count": 69,
     "metadata": {},
     "output_type": "execute_result"
    }
   ],
   "source": [
    "df.shape"
   ]
  },
  {
   "cell_type": "code",
   "execution_count": 152,
   "metadata": {},
   "outputs": [],
   "source": [
    "df = df.dropna(subset = ['label'])\n",
    "df2 = df2.dropna(subset = ['label'])\n",
    "df4 = df4.dropna(subset = ['label'])\n",
    "df6 = df6.dropna(subset = ['label'])"
   ]
  },
  {
   "cell_type": "code",
   "execution_count": 153,
   "metadata": {},
   "outputs": [
    {
     "data": {
      "text/plain": [
       "(84481, 11)"
      ]
     },
     "execution_count": 153,
     "metadata": {},
     "output_type": "execute_result"
    }
   ],
   "source": [
    "df6.shape\n"
   ]
  },
  {
   "cell_type": "markdown",
   "metadata": {},
   "source": [
    "Check if there are na values amongst our columns"
   ]
  },
  {
   "cell_type": "markdown",
   "metadata": {},
   "source": [
    "3rd, drop the ibi column"
   ]
  },
  {
   "cell_type": "code",
   "execution_count": 154,
   "metadata": {},
   "outputs": [],
   "source": [
    "# df.drop(columns=['ibi_1','ibi_2'],inplace=True)\n",
    "# df2.drop(columns=['ibi_1','ibi_2'],inplace=True)\n",
    "# df4.drop(columns=['ibi_1','ibi_2'],inplace=True)\n",
    "df6.drop(columns=['ibi_1','ibi_2'],inplace=True)"
   ]
  },
  {
   "cell_type": "code",
   "execution_count": 157,
   "metadata": {},
   "outputs": [],
   "source": [
    "df6.to_csv('df6.csv', index=False)\n",
    "# df = pd.read_csv('df.csv')\n",
    "# df2 = pd.read_csv('df2.csv')\n",
    "# df4 = pd.read_csv('df4.csv')\n",
    "# df6 = pd.read_csv('df6.csv')\n"
   ]
  },
  {
   "cell_type": "code",
   "execution_count": 115,
   "metadata": {
    "scrolled": true
   },
   "outputs": [
    {
     "name": "stdout",
     "output_type": "stream",
     "text": [
      "acc_x          0\n",
      "acc_y          0\n",
      "acc_z          0\n",
      "datetime       0\n",
      "average_hr     0\n",
      "new_temp       0\n",
      "new_bvp        0\n",
      "new_eda       33\n",
      "label          0\n",
      "dtype: int64\n",
      "acc_x         0\n",
      "acc_y         0\n",
      "acc_z         0\n",
      "datetime      0\n",
      "average_hr    0\n",
      "new_temp      0\n",
      "new_bvp       0\n",
      "new_eda       0\n",
      "label         0\n",
      "dtype: int64\n",
      "acc_x         0\n",
      "acc_y         0\n",
      "acc_z         0\n",
      "datetime      0\n",
      "average_hr    0\n",
      "new_temp      0\n",
      "new_bvp       0\n",
      "new_eda       0\n",
      "label         0\n",
      "dtype: int64\n",
      "acc_x         0\n",
      "acc_y         0\n",
      "acc_z         0\n",
      "datetime      0\n",
      "average_hr    0\n",
      "new_temp      0\n",
      "new_bvp       0\n",
      "new_eda       0\n",
      "label         0\n",
      "dtype: int64\n"
     ]
    }
   ],
   "source": [
    "print(df.isna().sum())\n",
    "print(df2.isna().sum())\n",
    "print(df4.isna().sum())\n",
    "print(df6.isna().sum())"
   ]
  },
  {
   "cell_type": "markdown",
   "metadata": {},
   "source": [
    "5th, From the results above, we see that only the column 'eda' for participant 01 has missing values, we'll deal with this using using median imputation.\n",
    "\n",
    "The number is signficantly small enough to use a median imputation without introducing much bias to the data"
   ]
  },
  {
   "cell_type": "code",
   "execution_count": 116,
   "metadata": {},
   "outputs": [],
   "source": [
    "df = df.fillna(df.median())\n"
   ]
  },
  {
   "cell_type": "markdown",
   "metadata": {},
   "source": [
    "6th, change the datatype of column 'label' to integer"
   ]
  },
  {
   "cell_type": "code",
   "execution_count": 167,
   "metadata": {
    "scrolled": false
   },
   "outputs": [],
   "source": [
    "df['label'] = df['label'].astype('int')\n",
    "df2['label'] = df2['label'].astype('int')\n",
    "df4['label'] = df4['label'].astype('int')\n",
    "df6['label'] = df6['label'].astype('int')"
   ]
  },
  {
   "cell_type": "code",
   "execution_count": null,
   "metadata": {},
   "outputs": [],
   "source": [
    "df['datetime'] = pd.to_datetime(df['datetime'])\n",
    "df2['datetime'] = pd.to_datetime(df2['datetime'])\n",
    "df4['datetime'] = pd.to_datetime(df4['datetime'])\n",
    "df6['datetime'] = pd.to_datetime(df6['datetime'])\n"
   ]
  },
  {
   "cell_type": "code",
   "execution_count": null,
   "metadata": {},
   "outputs": [],
   "source": [
    "df.head()"
   ]
  },
  {
   "cell_type": "markdown",
   "metadata": {},
   "source": [
    "# Data Exploration"
   ]
  },
  {
   "cell_type": "markdown",
   "metadata": {},
   "source": [
    "## Time series plot"
   ]
  },
  {
   "cell_type": "code",
   "execution_count": 161,
   "metadata": {},
   "outputs": [],
   "source": [
    "df.set_index(df['datetime'],inplace=True)\n",
    "df2.set_index(df2['datetime'],inplace=True)\n",
    "df4.set_index(df4['datetime'],inplace=True)\n",
    "df6.set_index(df6['datetime'],inplace=True)"
   ]
  },
  {
   "cell_type": "code",
   "execution_count": 129,
   "metadata": {},
   "outputs": [
    {
     "data": {
      "text/plain": [
       "<AxesSubplot:xlabel='datetime', ylabel='average_hr'>"
      ]
     },
     "execution_count": 129,
     "metadata": {},
     "output_type": "execute_result"
    },
    {
     "data": {
      "image/png": "[encoded data removed]",
      "text/plain": [
       "<Figure size 432x288 with 1 Axes>"
      ]
     },
     "metadata": {
      "needs_background": "light"
     },
     "output_type": "display_data"
    }
   ],
   "source": [
    "sns.lineplot(x=df.index, y='average_hr', data=df)"
   ]
  },
  {
   "cell_type": "code",
   "execution_count": 130,
   "metadata": {},
   "outputs": [
    {
     "data": {
      "text/plain": [
       "<AxesSubplot:xlabel='datetime', ylabel='average_hr'>"
      ]
     },
     "execution_count": 130,
     "metadata": {},
     "output_type": "execute_result"
    },
    {
     "data": {
      "image/png": "[encoded data removed]",
      "text/plain": [
       "<Figure size 432x288 with 1 Axes>"
      ]
     },
     "metadata": {
      "needs_background": "light"
     },
     "output_type": "display_data"
    }
   ],
   "source": [
    "sns.lineplot(x=df2.index, y='average_hr', data=df2)"
   ]
  },
  {
   "cell_type": "code",
   "execution_count": 131,
   "metadata": {},
   "outputs": [
    {
     "data": {
      "text/plain": [
       "<AxesSubplot:xlabel='datetime', ylabel='average_hr'>"
      ]
     },
     "execution_count": 131,
     "metadata": {},
     "output_type": "execute_result"
    },
    {
     "data": {
      "image/png": "[encoded data removed]",
      "text/plain": [
       "<Figure size 432x288 with 1 Axes>"
      ]
     },
     "metadata": {
      "needs_background": "light"
     },
     "output_type": "display_data"
    }
   ],
   "source": [
    "sns.lineplot(x=df4.index, y='average_hr', data=df4)"
   ]
  },
  {
   "cell_type": "markdown",
   "metadata": {},
   "source": [
    "From the time series plots above, we observe that for periods of rest, the hearbeat is low and for periods of high stress activity, the heartbeat spikes up"
   ]
  },
  {
   "cell_type": "code",
   "execution_count": 160,
   "metadata": {
    "scrolled": true
   },
   "outputs": [
    {
     "data": {
      "text/html": [
       "<div>\n",
       "<style scoped>\n",
       "    .dataframe tbody tr th:only-of-type {\n",
       "        vertical-align: middle;\n",
       "    }\n",
       "\n",
       "    .dataframe tbody tr th {\n",
       "        vertical-align: top;\n",
       "    }\n",
       "\n",
       "    .dataframe thead th {\n",
       "        text-align: right;\n",
       "    }\n",
       "</style>\n",
       "<table border=\"1\" class=\"dataframe\">\n",
       "  <thead>\n",
       "    <tr style=\"text-align: right;\">\n",
       "      <th></th>\n",
       "      <th>acc_x</th>\n",
       "      <th>acc_y</th>\n",
       "      <th>acc_z</th>\n",
       "      <th>datetime</th>\n",
       "      <th>average_hr</th>\n",
       "      <th>new_temp</th>\n",
       "      <th>new_bvp</th>\n",
       "      <th>new_eda</th>\n",
       "      <th>label</th>\n",
       "    </tr>\n",
       "    <tr>\n",
       "      <th>datetime</th>\n",
       "      <th></th>\n",
       "      <th></th>\n",
       "      <th></th>\n",
       "      <th></th>\n",
       "      <th></th>\n",
       "      <th></th>\n",
       "      <th></th>\n",
       "      <th></th>\n",
       "      <th></th>\n",
       "    </tr>\n",
       "  </thead>\n",
       "  <tbody>\n",
       "    <tr>\n",
       "      <th>2022-02-07 11:40:00.000000</th>\n",
       "      <td>-41.0</td>\n",
       "      <td>7.0</td>\n",
       "      <td>48.0</td>\n",
       "      <td>2022-02-07 11:40:00.000000</td>\n",
       "      <td>78.38</td>\n",
       "      <td>34.11</td>\n",
       "      <td>1.90</td>\n",
       "      <td>1.466389</td>\n",
       "      <td>1</td>\n",
       "    </tr>\n",
       "    <tr>\n",
       "      <th>2022-02-07 11:40:00.031250</th>\n",
       "      <td>-41.0</td>\n",
       "      <td>7.0</td>\n",
       "      <td>48.0</td>\n",
       "      <td>2022-02-07 11:40:00.031250</td>\n",
       "      <td>78.38</td>\n",
       "      <td>34.11</td>\n",
       "      <td>2.20</td>\n",
       "      <td>1.466389</td>\n",
       "      <td>1</td>\n",
       "    </tr>\n",
       "    <tr>\n",
       "      <th>2022-02-07 11:40:00.062500</th>\n",
       "      <td>-42.0</td>\n",
       "      <td>7.0</td>\n",
       "      <td>48.0</td>\n",
       "      <td>2022-02-07 11:40:00.062500</td>\n",
       "      <td>78.38</td>\n",
       "      <td>34.11</td>\n",
       "      <td>1.88</td>\n",
       "      <td>1.466389</td>\n",
       "      <td>1</td>\n",
       "    </tr>\n",
       "    <tr>\n",
       "      <th>2022-02-07 11:40:00.093750</th>\n",
       "      <td>-41.0</td>\n",
       "      <td>7.0</td>\n",
       "      <td>48.0</td>\n",
       "      <td>2022-02-07 11:40:00.093750</td>\n",
       "      <td>78.38</td>\n",
       "      <td>34.11</td>\n",
       "      <td>1.10</td>\n",
       "      <td>1.466389</td>\n",
       "      <td>1</td>\n",
       "    </tr>\n",
       "    <tr>\n",
       "      <th>2022-02-07 11:40:00.125000</th>\n",
       "      <td>-41.0</td>\n",
       "      <td>7.0</td>\n",
       "      <td>48.0</td>\n",
       "      <td>2022-02-07 11:40:00.125000</td>\n",
       "      <td>78.38</td>\n",
       "      <td>34.11</td>\n",
       "      <td>0.35</td>\n",
       "      <td>1.466389</td>\n",
       "      <td>1</td>\n",
       "    </tr>\n",
       "  </tbody>\n",
       "</table>\n",
       "</div>"
      ],
      "text/plain": [
       "                            acc_x  acc_y  acc_z                   datetime  \\\n",
       "datetime                                                                     \n",
       "2022-02-07 11:40:00.000000  -41.0    7.0   48.0 2022-02-07 11:40:00.000000   \n",
       "2022-02-07 11:40:00.031250  -41.0    7.0   48.0 2022-02-07 11:40:00.031250   \n",
       "2022-02-07 11:40:00.062500  -42.0    7.0   48.0 2022-02-07 11:40:00.062500   \n",
       "2022-02-07 11:40:00.093750  -41.0    7.0   48.0 2022-02-07 11:40:00.093750   \n",
       "2022-02-07 11:40:00.125000  -41.0    7.0   48.0 2022-02-07 11:40:00.125000   \n",
       "\n",
       "                            average_hr  new_temp  new_bvp   new_eda  label  \n",
       "datetime                                                                    \n",
       "2022-02-07 11:40:00.000000       78.38     34.11     1.90  1.466389      1  \n",
       "2022-02-07 11:40:00.031250       78.38     34.11     2.20  1.466389      1  \n",
       "2022-02-07 11:40:00.062500       78.38     34.11     1.88  1.466389      1  \n",
       "2022-02-07 11:40:00.093750       78.38     34.11     1.10  1.466389      1  \n",
       "2022-02-07 11:40:00.125000       78.38     34.11     0.35  1.466389      1  "
      ]
     },
     "execution_count": 160,
     "metadata": {},
     "output_type": "execute_result"
    }
   ],
   "source": [
    "df4.head()"
   ]
  },
  {
   "cell_type": "code",
   "execution_count": 165,
   "metadata": {},
   "outputs": [
    {
     "data": {
      "text/plain": [
       "<AxesSubplot:xlabel='datetime', ylabel='average_hr'>"
      ]
     },
     "execution_count": 165,
     "metadata": {},
     "output_type": "execute_result"
    },
    {
     "data": {
      "image/png": "[encoded data removed]",
      "text/plain": [
       "<Figure size 1080x576 with 1 Axes>"
      ]
     },
     "metadata": {
      "needs_background": "light"
     },
     "output_type": "display_data"
    }
   ],
   "source": [
    "fig, ax = plt.subplots(figsize=(15,8))\n",
    "sns.lineplot(x=df6.index, y='average_hr', data=df6,ax=ax)"
   ]
  },
  {
   "cell_type": "code",
   "execution_count": 168,
   "metadata": {},
   "outputs": [
    {
     "data": {
      "text/html": [
       "<div>\n",
       "<style scoped>\n",
       "    .dataframe tbody tr th:only-of-type {\n",
       "        vertical-align: middle;\n",
       "    }\n",
       "\n",
       "    .dataframe tbody tr th {\n",
       "        vertical-align: top;\n",
       "    }\n",
       "\n",
       "    .dataframe thead th {\n",
       "        text-align: right;\n",
       "    }\n",
       "</style>\n",
       "<table border=\"1\" class=\"dataframe\">\n",
       "  <thead>\n",
       "    <tr style=\"text-align: right;\">\n",
       "      <th></th>\n",
       "      <th>acc_x</th>\n",
       "      <th>acc_y</th>\n",
       "      <th>acc_z</th>\n",
       "      <th>datetime</th>\n",
       "      <th>average_hr</th>\n",
       "      <th>new_temp</th>\n",
       "      <th>new_bvp</th>\n",
       "      <th>new_eda</th>\n",
       "      <th>label</th>\n",
       "    </tr>\n",
       "    <tr>\n",
       "      <th>datetime</th>\n",
       "      <th></th>\n",
       "      <th></th>\n",
       "      <th></th>\n",
       "      <th></th>\n",
       "      <th></th>\n",
       "      <th></th>\n",
       "      <th></th>\n",
       "      <th></th>\n",
       "      <th></th>\n",
       "    </tr>\n",
       "  </thead>\n",
       "  <tbody>\n",
       "    <tr>\n",
       "      <th>2022-02-14 09:55:00.000000</th>\n",
       "      <td>-11.0</td>\n",
       "      <td>-10.0</td>\n",
       "      <td>62.0</td>\n",
       "      <td>2022-02-14 09:55:00.000000</td>\n",
       "      <td>73.53</td>\n",
       "      <td>28.55</td>\n",
       "      <td>3.20</td>\n",
       "      <td>0.229358</td>\n",
       "      <td>1</td>\n",
       "    </tr>\n",
       "    <tr>\n",
       "      <th>2022-02-14 09:55:00.031250</th>\n",
       "      <td>-11.0</td>\n",
       "      <td>-11.0</td>\n",
       "      <td>62.0</td>\n",
       "      <td>2022-02-14 09:55:00.031250</td>\n",
       "      <td>73.53</td>\n",
       "      <td>28.55</td>\n",
       "      <td>0.04</td>\n",
       "      <td>0.229358</td>\n",
       "      <td>1</td>\n",
       "    </tr>\n",
       "    <tr>\n",
       "      <th>2022-02-14 09:55:00.062500</th>\n",
       "      <td>-12.0</td>\n",
       "      <td>-11.0</td>\n",
       "      <td>62.0</td>\n",
       "      <td>2022-02-14 09:55:00.062500</td>\n",
       "      <td>73.53</td>\n",
       "      <td>28.55</td>\n",
       "      <td>-5.05</td>\n",
       "      <td>0.229358</td>\n",
       "      <td>1</td>\n",
       "    </tr>\n",
       "    <tr>\n",
       "      <th>2022-02-14 09:55:00.093750</th>\n",
       "      <td>-12.0</td>\n",
       "      <td>-11.0</td>\n",
       "      <td>62.0</td>\n",
       "      <td>2022-02-14 09:55:00.093750</td>\n",
       "      <td>73.53</td>\n",
       "      <td>28.55</td>\n",
       "      <td>-10.22</td>\n",
       "      <td>0.229358</td>\n",
       "      <td>1</td>\n",
       "    </tr>\n",
       "    <tr>\n",
       "      <th>2022-02-14 09:55:00.125000</th>\n",
       "      <td>-11.0</td>\n",
       "      <td>-10.0</td>\n",
       "      <td>62.0</td>\n",
       "      <td>2022-02-14 09:55:00.125000</td>\n",
       "      <td>73.53</td>\n",
       "      <td>28.55</td>\n",
       "      <td>-13.84</td>\n",
       "      <td>0.229358</td>\n",
       "      <td>1</td>\n",
       "    </tr>\n",
       "  </tbody>\n",
       "</table>\n",
       "</div>"
      ],
      "text/plain": [
       "                            acc_x  acc_y  acc_z                   datetime  \\\n",
       "datetime                                                                     \n",
       "2022-02-14 09:55:00.000000  -11.0  -10.0   62.0 2022-02-14 09:55:00.000000   \n",
       "2022-02-14 09:55:00.031250  -11.0  -11.0   62.0 2022-02-14 09:55:00.031250   \n",
       "2022-02-14 09:55:00.062500  -12.0  -11.0   62.0 2022-02-14 09:55:00.062500   \n",
       "2022-02-14 09:55:00.093750  -12.0  -11.0   62.0 2022-02-14 09:55:00.093750   \n",
       "2022-02-14 09:55:00.125000  -11.0  -10.0   62.0 2022-02-14 09:55:00.125000   \n",
       "\n",
       "                            average_hr  new_temp  new_bvp   new_eda  label  \n",
       "datetime                                                                    \n",
       "2022-02-14 09:55:00.000000       73.53     28.55     3.20  0.229358      1  \n",
       "2022-02-14 09:55:00.031250       73.53     28.55     0.04  0.229358      1  \n",
       "2022-02-14 09:55:00.062500       73.53     28.55    -5.05  0.229358      1  \n",
       "2022-02-14 09:55:00.093750       73.53     28.55   -10.22  0.229358      1  \n",
       "2022-02-14 09:55:00.125000       73.53     28.55   -13.84  0.229358      1  "
      ]
     },
     "execution_count": 168,
     "metadata": {},
     "output_type": "execute_result"
    }
   ],
   "source": [
    "df6.head()"
   ]
  },
  {
   "cell_type": "markdown",
   "metadata": {},
   "source": [
    "## Check Normality"
   ]
  },
  {
   "cell_type": "code",
   "execution_count": 169,
   "metadata": {
    "scrolled": true
   },
   "outputs": [
    {
     "data": {
      "text/plain": [
       "array([[<AxesSubplot:title={'center':'acc_x'}>,\n",
       "        <AxesSubplot:title={'center':'acc_y'}>,\n",
       "        <AxesSubplot:title={'center':'acc_z'}>],\n",
       "       [<AxesSubplot:title={'center':'average_hr'}>,\n",
       "        <AxesSubplot:title={'center':'new_temp'}>,\n",
       "        <AxesSubplot:title={'center':'new_bvp'}>],\n",
       "       [<AxesSubplot:title={'center':'new_eda'}>,\n",
       "        <AxesSubplot:title={'center':'label'}>, <AxesSubplot:>]],\n",
       "      dtype=object)"
      ]
     },
     "execution_count": 169,
     "metadata": {},
     "output_type": "execute_result"
    },
    {
     "data": {
      "image/png": "[encoded data removed]",
      "text/plain": [
       "<Figure size 1440x1440 with 9 Axes>"
      ]
     },
     "metadata": {
      "needs_background": "light"
     },
     "output_type": "display_data"
    }
   ],
   "source": [
    "df.hist(figsize=(20,20))"
   ]
  },
  {
   "cell_type": "code",
   "execution_count": 222,
   "metadata": {},
   "outputs": [
    {
     "data": {
      "text/plain": [
       "array([[<AxesSubplot:title={'center':'acc_x'}>,\n",
       "        <AxesSubplot:title={'center':'acc_y'}>,\n",
       "        <AxesSubplot:title={'center':'acc_z'}>],\n",
       "       [<AxesSubplot:title={'center':'average_hr'}>,\n",
       "        <AxesSubplot:title={'center':'new_temp'}>,\n",
       "        <AxesSubplot:title={'center':'new_bvp'}>],\n",
       "       [<AxesSubplot:title={'center':'new_eda'}>,\n",
       "        <AxesSubplot:title={'center':'label'}>, <AxesSubplot:>]],\n",
       "      dtype=object)"
      ]
     },
     "execution_count": 222,
     "metadata": {},
     "output_type": "execute_result"
    },
    {
     "data": {
      "image/png": "[encoded data removed]",
      "text/plain": [
       "<Figure size 1440x1440 with 9 Axes>"
      ]
     },
     "metadata": {
      "needs_background": "light"
     },
     "output_type": "display_data"
    }
   ],
   "source": [
    "df2.hist(figsize=(20,20))"
   ]
  },
  {
   "cell_type": "code",
   "execution_count": 223,
   "metadata": {},
   "outputs": [
    {
     "data": {
      "text/plain": [
       "array([[<AxesSubplot:title={'center':'acc_x'}>,\n",
       "        <AxesSubplot:title={'center':'acc_y'}>,\n",
       "        <AxesSubplot:title={'center':'acc_z'}>],\n",
       "       [<AxesSubplot:title={'center':'average_hr'}>,\n",
       "        <AxesSubplot:title={'center':'new_temp'}>,\n",
       "        <AxesSubplot:title={'center':'new_bvp'}>],\n",
       "       [<AxesSubplot:title={'center':'new_eda'}>,\n",
       "        <AxesSubplot:title={'center':'label'}>, <AxesSubplot:>]],\n",
       "      dtype=object)"
      ]
     },
     "execution_count": 223,
     "metadata": {},
     "output_type": "execute_result"
    },
    {
     "data": {
      "image/png": "[encoded data removed]",
      "text/plain": [
       "<Figure size 1440x1440 with 9 Axes>"
      ]
     },
     "metadata": {
      "needs_background": "light"
     },
     "output_type": "display_data"
    }
   ],
   "source": [
    "df4.hist(figsize=(20,20))"
   ]
  },
  {
   "cell_type": "code",
   "execution_count": 225,
   "metadata": {},
   "outputs": [
    {
     "data": {
      "text/plain": [
       "array([[<AxesSubplot:title={'center':'acc_x'}>,\n",
       "        <AxesSubplot:title={'center':'acc_y'}>,\n",
       "        <AxesSubplot:title={'center':'acc_z'}>],\n",
       "       [<AxesSubplot:title={'center':'average_hr'}>,\n",
       "        <AxesSubplot:title={'center':'new_temp'}>,\n",
       "        <AxesSubplot:title={'center':'new_bvp'}>],\n",
       "       [<AxesSubplot:title={'center':'new_eda'}>,\n",
       "        <AxesSubplot:title={'center':'label'}>, <AxesSubplot:>]],\n",
       "      dtype=object)"
      ]
     },
     "execution_count": 225,
     "metadata": {},
     "output_type": "execute_result"
    },
    {
     "data": {
      "image/png": "[encoded data removed]",
      "text/plain": [
       "<Figure size 1440x1440 with 9 Axes>"
      ]
     },
     "metadata": {
      "needs_background": "light"
     },
     "output_type": "display_data"
    }
   ],
   "source": [
    "df6.hist(figsize=(20,20))"
   ]
  },
  {
   "cell_type": "markdown",
   "metadata": {},
   "source": [
    "## Check distribution along with outliers "
   ]
  },
  {
   "cell_type": "code",
   "execution_count": 171,
   "metadata": {
    "scrolled": true
   },
   "outputs": [
    {
     "data": {
      "text/plain": [
       "<AxesSubplot:>"
      ]
     },
     "execution_count": 171,
     "metadata": {},
     "output_type": "execute_result"
    },
    {
     "data": {
      "image/png": "[encoded data removed]",
      "text/plain": [
       "<Figure size 432x288 with 1 Axes>"
      ]
     },
     "metadata": {
      "needs_background": "light"
     },
     "output_type": "display_data"
    }
   ],
   "source": [
    "sns.boxplot(data=df['new_bvp'])"
   ]
  },
  {
   "cell_type": "code",
   "execution_count": 226,
   "metadata": {},
   "outputs": [
    {
     "data": {
      "text/plain": [
       "<AxesSubplot:>"
      ]
     },
     "execution_count": 226,
     "metadata": {},
     "output_type": "execute_result"
    },
    {
     "data": {
      "image/png": "[encoded data removed]",
      "text/plain": [
       "<Figure size 432x288 with 1 Axes>"
      ]
     },
     "metadata": {
      "needs_background": "light"
     },
     "output_type": "display_data"
    }
   ],
   "source": [
    "sns.boxplot(data=df2['new_bvp'])"
   ]
  },
  {
   "cell_type": "code",
   "execution_count": 234,
   "metadata": {},
   "outputs": [
    {
     "data": {
      "text/plain": [
       "[Text(0.5, 0, 'BVP')]"
      ]
     },
     "execution_count": 234,
     "metadata": {},
     "output_type": "execute_result"
    },
    {
     "data": {
      "image/png": "[encoded data removed]",
      "text/plain": [
       "<Figure size 432x288 with 1 Axes>"
      ]
     },
     "metadata": {
      "needs_background": "light"
     },
     "output_type": "display_data"
    }
   ],
   "source": [
    "ax = sns.boxplot(data=df4['new_bvp'])\n",
    "ax.set(xlabel='BVP')"
   ]
  },
  {
   "cell_type": "code",
   "execution_count": 235,
   "metadata": {},
   "outputs": [
    {
     "data": {
      "text/plain": [
       "[Text(0.5, 0, 'Hearbeat Rate')]"
      ]
     },
     "execution_count": 235,
     "metadata": {},
     "output_type": "execute_result"
    },
    {
     "data": {
      "image/png": "[encoded data removed]",
      "text/plain": [
       "<Figure size 432x288 with 1 Axes>"
      ]
     },
     "metadata": {
      "needs_background": "light"
     },
     "output_type": "display_data"
    }
   ],
   "source": [
    "ax = sns.boxplot(data=df4['average_hr'])\n",
    "ax.set(xlabel='Hearbeat Rate')"
   ]
  },
  {
   "cell_type": "code",
   "execution_count": 228,
   "metadata": {
    "scrolled": true
   },
   "outputs": [
    {
     "data": {
      "text/plain": [
       "<AxesSubplot:>"
      ]
     },
     "execution_count": 228,
     "metadata": {},
     "output_type": "execute_result"
    },
    {
     "data": {
      "image/png": "[encoded data removed]",
      "text/plain": [
       "<Figure size 432x288 with 1 Axes>"
      ]
     },
     "metadata": {
      "needs_background": "light"
     },
     "output_type": "display_data"
    }
   ],
   "source": [
    "sns.boxplot(data=df6['new_bvp'])"
   ]
  },
  {
   "cell_type": "markdown",
   "metadata": {},
   "source": [
    "Lets show the correlation between label and the other predictor variables"
   ]
  },
  {
   "cell_type": "code",
   "execution_count": 247,
   "metadata": {},
   "outputs": [
    {
     "data": {
      "image/png": "[encoded data removed]",
      "text/plain": [
       "<Figure size 432x288 with 2 Axes>"
      ]
     },
     "metadata": {
      "needs_background": "light"
     },
     "output_type": "display_data"
    }
   ],
   "source": [
    "sns.heatmap(df.corr(), vmin=-1, vmax=1,\n",
    "annot=True,cmap=\"rocket_r\")\n",
    "plt.show()"
   ]
  },
  {
   "cell_type": "code",
   "execution_count": 248,
   "metadata": {},
   "outputs": [
    {
     "data": {
      "image/png": "[encoded data removed]",
      "text/plain": [
       "<Figure size 432x288 with 2 Axes>"
      ]
     },
     "metadata": {
      "needs_background": "light"
     },
     "output_type": "display_data"
    }
   ],
   "source": [
    "sns.heatmap(df2.corr(), vmin=-1, vmax=1,\n",
    "annot=True,cmap=\"rocket_r\")\n",
    "plt.show()"
   ]
  },
  {
   "cell_type": "code",
   "execution_count": 249,
   "metadata": {},
   "outputs": [
    {
     "data": {
      "image/png": "[encoded data removed]",
      "text/plain": [
       "<Figure size 432x288 with 2 Axes>"
      ]
     },
     "metadata": {
      "needs_background": "light"
     },
     "output_type": "display_data"
    }
   ],
   "source": [
    "sns.heatmap(df4.corr(), vmin=-1, vmax=1,\n",
    "annot=True,cmap=\"rocket_r\")\n",
    "plt.show()"
   ]
  },
  {
   "cell_type": "code",
   "execution_count": 250,
   "metadata": {},
   "outputs": [
    {
     "data": {
      "image/png": "[encoded data removed]",
      "text/plain": [
       "<Figure size 432x288 with 2 Axes>"
      ]
     },
     "metadata": {
      "needs_background": "light"
     },
     "output_type": "display_data"
    }
   ],
   "source": [
    "sns.heatmap(df6.corr(), vmin=-1, vmax=1,\n",
    "annot=True,cmap=\"rocket_r\")\n",
    "plt.show()"
   ]
  },
  {
   "cell_type": "markdown",
   "metadata": {},
   "source": [
    "The heatmap for the four datasets shows that blood volume pulse (bvp) is not a good indicator of stress.  It is barely correlated to our response variable"
   ]
  },
  {
   "cell_type": "markdown",
   "metadata": {},
   "source": [
    "# Model Building"
   ]
  },
  {
   "cell_type": "markdown",
   "metadata": {},
   "source": [
    "For our modelling, we will combine participants 01, 02 and 04 as one dataset, with which we will also create train and test set from. We will keep participant 06 as further data to test with. ~"
   ]
  },
  {
   "cell_type": "code",
   "execution_count": 177,
   "metadata": {},
   "outputs": [],
   "source": [
    "df.reset_index(inplace=True,drop=True)\n",
    "df2.reset_index(inplace=True,drop=True)\n",
    "df4.reset_index(inplace=True,drop=True)\n",
    "df6.reset_index(inplace=True,drop=True)"
   ]
  },
  {
   "cell_type": "code",
   "execution_count": 181,
   "metadata": {},
   "outputs": [],
   "source": [
    "df.to_csv('df.csv', index=False)\n",
    "df2.to_csv('df2.csv', index=False)\n",
    "df4.to_csv('df4.csv', index=False)\n",
    "df6.to_csv('df6.csv', index=False)"
   ]
  },
  {
   "cell_type": "code",
   "execution_count": 182,
   "metadata": {},
   "outputs": [],
   "source": [
    "df.drop(columns=['datetime'],inplace=True)\n",
    "df2.drop(columns=['datetime'],inplace=True)\n",
    "df4.drop(columns=['datetime'],inplace=True)\n",
    "df6.drop(columns=['datetime'],inplace=True)"
   ]
  },
  {
   "cell_type": "code",
   "execution_count": 251,
   "metadata": {},
   "outputs": [],
   "source": [
    "#we'll drop bvp because it is weakly correlated to the 'label' column\n",
    "df.drop(columns=['new_bvp'],inplace=True)\n",
    "df2.drop(columns=['new_bvp'],inplace=True)\n",
    "df4.drop(columns=['new_bvp'],inplace=True)\n",
    "df6.drop(columns=['new_bvp'],inplace=True)"
   ]
  },
  {
   "cell_type": "code",
   "execution_count": 252,
   "metadata": {},
   "outputs": [
    {
     "data": {
      "text/html": [
       "<div>\n",
       "<style scoped>\n",
       "    .dataframe tbody tr th:only-of-type {\n",
       "        vertical-align: middle;\n",
       "    }\n",
       "\n",
       "    .dataframe tbody tr th {\n",
       "        vertical-align: top;\n",
       "    }\n",
       "\n",
       "    .dataframe thead th {\n",
       "        text-align: right;\n",
       "    }\n",
       "</style>\n",
       "<table border=\"1\" class=\"dataframe\">\n",
       "  <thead>\n",
       "    <tr style=\"text-align: right;\">\n",
       "      <th></th>\n",
       "      <th>acc_x</th>\n",
       "      <th>acc_y</th>\n",
       "      <th>acc_z</th>\n",
       "      <th>average_hr</th>\n",
       "      <th>new_temp</th>\n",
       "      <th>new_eda</th>\n",
       "      <th>label</th>\n",
       "    </tr>\n",
       "  </thead>\n",
       "  <tbody>\n",
       "    <tr>\n",
       "      <th>0</th>\n",
       "      <td>-15.0</td>\n",
       "      <td>17.0</td>\n",
       "      <td>59.0</td>\n",
       "      <td>74.35</td>\n",
       "      <td>28.53</td>\n",
       "      <td>0.189626</td>\n",
       "      <td>1</td>\n",
       "    </tr>\n",
       "    <tr>\n",
       "      <th>1</th>\n",
       "      <td>-15.0</td>\n",
       "      <td>16.0</td>\n",
       "      <td>59.0</td>\n",
       "      <td>74.35</td>\n",
       "      <td>28.53</td>\n",
       "      <td>0.189626</td>\n",
       "      <td>1</td>\n",
       "    </tr>\n",
       "    <tr>\n",
       "      <th>2</th>\n",
       "      <td>-15.0</td>\n",
       "      <td>16.0</td>\n",
       "      <td>60.0</td>\n",
       "      <td>74.35</td>\n",
       "      <td>28.53</td>\n",
       "      <td>0.189626</td>\n",
       "      <td>1</td>\n",
       "    </tr>\n",
       "    <tr>\n",
       "      <th>3</th>\n",
       "      <td>-16.0</td>\n",
       "      <td>16.0</td>\n",
       "      <td>59.0</td>\n",
       "      <td>74.35</td>\n",
       "      <td>28.53</td>\n",
       "      <td>0.189626</td>\n",
       "      <td>1</td>\n",
       "    </tr>\n",
       "    <tr>\n",
       "      <th>4</th>\n",
       "      <td>-14.0</td>\n",
       "      <td>16.0</td>\n",
       "      <td>60.0</td>\n",
       "      <td>74.35</td>\n",
       "      <td>28.53</td>\n",
       "      <td>0.189626</td>\n",
       "      <td>1</td>\n",
       "    </tr>\n",
       "  </tbody>\n",
       "</table>\n",
       "</div>"
      ],
      "text/plain": [
       "   acc_x  acc_y  acc_z  average_hr  new_temp   new_eda  label\n",
       "0  -15.0   17.0   59.0       74.35     28.53  0.189626      1\n",
       "1  -15.0   16.0   59.0       74.35     28.53  0.189626      1\n",
       "2  -15.0   16.0   60.0       74.35     28.53  0.189626      1\n",
       "3  -16.0   16.0   59.0       74.35     28.53  0.189626      1\n",
       "4  -14.0   16.0   60.0       74.35     28.53  0.189626      1"
      ]
     },
     "execution_count": 252,
     "metadata": {},
     "output_type": "execute_result"
    }
   ],
   "source": [
    "df.head()"
   ]
  },
  {
   "cell_type": "code",
   "execution_count": 253,
   "metadata": {},
   "outputs": [
    {
     "data": {
      "text/plain": [
       "(274565, 7)"
      ]
     },
     "execution_count": 253,
     "metadata": {},
     "output_type": "execute_result"
    }
   ],
   "source": [
    "df_ml = pd.concat([df, df2, df4])\n",
    "df_ml.shape"
   ]
  },
  {
   "cell_type": "code",
   "execution_count": 254,
   "metadata": {},
   "outputs": [],
   "source": [
    "X = df_ml.iloc[:,:-1]\n",
    "y =df_ml['label']"
   ]
  },
  {
   "cell_type": "code",
   "execution_count": 255,
   "metadata": {},
   "outputs": [],
   "source": [
    "X6 = df6.iloc[:,:-1]\n",
    "y6 =df6['label']"
   ]
  },
  {
   "cell_type": "markdown",
   "metadata": {},
   "source": [
    "### Random Forest Model"
   ]
  },
  {
   "cell_type": "code",
   "execution_count": 256,
   "metadata": {
    "scrolled": true
   },
   "outputs": [
    {
     "name": "stdout",
     "output_type": "stream",
     "text": [
      "Accuracy: 0.9995083131498916\n"
     ]
    }
   ],
   "source": [
    "\n",
    "# Split the data into training and testing sets\n",
    "X_train, X_test, y_train, y_test = train_test_split(X, y, test_size=0.2, random_state=32)\n",
    "\n",
    "# Create the random forest classifier with 100 trees\n",
    "rf_classifier = RandomForestClassifier(n_estimators=100, random_state=45)\n",
    "\n",
    "# Fit the classifier to the training data\n",
    "rf_classifier.fit(X_train, y_train)\n",
    "\n",
    "# Make predictions on the test data\n",
    "y_pred = rf_classifier.predict(X_test)\n",
    "\n",
    "# Evaluate the accuracy of the classifier\n",
    "accuracy = accuracy_score(y_test, y_pred)\n",
    "print(\"Accuracy:\", accuracy)\n"
   ]
  },
  {
   "cell_type": "markdown",
   "metadata": {},
   "source": [
    "Confusion matrix plot"
   ]
  },
  {
   "cell_type": "code",
   "execution_count": 257,
   "metadata": {},
   "outputs": [
    {
     "data": {
      "image/png": "[encoded data removed]",
      "text/plain": [
       "<Figure size 432x288 with 2 Axes>"
      ]
     },
     "metadata": {
      "needs_background": "light"
     },
     "output_type": "display_data"
    }
   ],
   "source": [
    "# calculate the confusion matrix\n",
    "cm = confusion_matrix(y_test, y_pred)\n",
    "\n",
    "# plot the confusion matrix using seaborn\n",
    "sns.heatmap(cm, annot=True, cmap='Blues', fmt='g')\n",
    "\n",
    "# set the axis labels and title\n",
    "plt.xlabel('Predicted')\n",
    "plt.ylabel('Actual')\n",
    "plt.title('Confusion Matrix')\n",
    "\n",
    "plt.show()"
   ]
  },
  {
   "cell_type": "code",
   "execution_count": 290,
   "metadata": {},
   "outputs": [
    {
     "name": "stdout",
     "output_type": "stream",
     "text": [
      "Accuracy: 0.5812431197547377\n"
     ]
    }
   ],
   "source": [
    "#predict completely unknown data\n",
    "y_pred6 = rf_classifier.predict(X6)\n",
    "\n",
    "# Evaluate the accuracy of the classifier\n",
    "accuracy = accuracy_score(y6, y_pred6)\n",
    "print(\"Accuracy:\", accuracy)"
   ]
  },
  {
   "cell_type": "markdown",
   "metadata": {},
   "source": [
    "#confusion matrix plot for completely new data"
   ]
  },
  {
   "cell_type": "code",
   "execution_count": 292,
   "metadata": {
    "scrolled": true
   },
   "outputs": [
    {
     "data": {
      "image/png": "[encoded data removed]",
      "text/plain": [
       "<Figure size 432x288 with 2 Axes>"
      ]
     },
     "metadata": {
      "needs_background": "light"
     },
     "output_type": "display_data"
    }
   ],
   "source": [
    "# calculate the confusion matrix\n",
    "cm = confusion_matrix(y6, y_pred6)\n",
    "\n",
    "# plot the confusion matrix using seaborn\n",
    "sns.heatmap(cm, annot=True, cmap='Blues', fmt='g')\n",
    "\n",
    "# set the axis labels and title\n",
    "plt.xlabel('Predicted')\n",
    "plt.ylabel('Actual')\n",
    "plt.title('Random Classifier Confusion Matrix')\n",
    "\n",
    "plt.show()"
   ]
  },
  {
   "cell_type": "markdown",
   "metadata": {},
   "source": [
    "lets improve the performance of our random forest classifier model, using grid search and 5 fold cross validation"
   ]
  },
  {
   "cell_type": "code",
   "execution_count": 260,
   "metadata": {},
   "outputs": [
    {
     "name": "stdout",
     "output_type": "stream",
     "text": [
      "Best Parameters:  {'max_depth': None, 'min_samples_leaf': 1, 'min_samples_split': 2, 'n_estimators': 300} Best Score:  0.9993853914372881\n",
      "Accuracy:  0.999562945022126\n",
      "Mean CV Accuracy:  0.5008504361444467\n"
     ]
    }
   ],
   "source": [
    "\n",
    "# we define parameter grid for grid search\n",
    "param_grid = {'n_estimators': [100, 200, 300], \n",
    "              'max_depth': [5, 10, None], \n",
    "              'min_samples_split': [2, 5, 10], \n",
    "              'min_samples_leaf': [1, 2, 4]}\n",
    "\n",
    "# we implement grid search using 5-fold cross validation\n",
    "grid_search = GridSearchCV(rf_classifier, param_grid, cv=5, scoring='accuracy', n_jobs=-1)\n",
    "grid_search.fit(X_train, y_train)\n",
    "\n",
    "# print best parameters and score\n",
    "print('Best Parameters: ', grid_search.best_params_,'Best Score: ', grid_search.best_score_)\n",
    "\n",
    "\n",
    "# we fit the random forest model with the best possible parameters \n",
    "best_rf = RandomForestClassifier(random_state=52, n_estimators=grid_search.best_params_['n_estimators'], \n",
    "                                 max_depth=grid_search.best_params_['max_depth'],\n",
    "                                 min_samples_split=grid_search.best_params_['min_samples_split'], \n",
    "                                 min_samples_leaf=grid_search.best_params_['min_samples_leaf'])\n",
    "best_rf.fit(X_train, y_train)\n",
    "\n",
    "# predict on testing set\n",
    "y_pred = best_rf.predict(X_test)\n",
    "\n",
    "# evaluate model performance\n",
    "accuracy = accuracy_score(y_test, y_pred)\n",
    "print('Accuracy: ', accuracy)\n",
    "\n",
    "# perform 5-fold cross validation on final model and calculate mean accuracy\n",
    "cv_scores = cross_val_score(best_rf, X, y, cv=5)\n",
    "mean_accuracy = np.mean(cv_scores)\n",
    "print('Mean CV Accuracy: ', mean_accuracy)\n",
    "\n"
   ]
  },
  {
   "cell_type": "code",
   "execution_count": 287,
   "metadata": {},
   "outputs": [
    {
     "data": {
      "image/png": "[encoded data removed]",
      "text/plain": [
       "<Figure size 432x288 with 2 Axes>"
      ]
     },
     "metadata": {
      "needs_background": "light"
     },
     "output_type": "display_data"
    }
   ],
   "source": [
    "#lets test the performance\n",
    "y_pred6 = best_rf.predict(X6)\n",
    "\n",
    "# confusion_matrix(y6,y_pred6)\n",
    "# calculate the confusion matrix\n",
    "cm = confusion_matrix(y6, y_pred6)\n",
    "\n",
    "# plot the confusion matrix using seaborn\n",
    "sns.heatmap(cm, annot=True, cmap='Blues', fmt='g')\n",
    "\n",
    "# set the axis labels and title\n",
    "plt.xlabel('Predicted')\n",
    "plt.ylabel('Actual')\n",
    "plt.title('Random Forest Confusion Matrix')\n",
    "\n",
    "plt.show()"
   ]
  },
  {
   "cell_type": "code",
   "execution_count": 288,
   "metadata": {},
   "outputs": [
    {
     "name": "stdout",
     "output_type": "stream",
     "text": [
      "Accuracy:  0.5927131544370924\n"
     ]
    }
   ],
   "source": [
    "accuracy = accuracy_score(y6, y_pred6)\n",
    "print('Accuracy: ', accuracy)"
   ]
  },
  {
   "cell_type": "code",
   "execution_count": 289,
   "metadata": {},
   "outputs": [
    {
     "name": "stdout",
     "output_type": "stream",
     "text": [
      "              precision    recall  f1-score   support\n",
      "\n",
      "           0       0.58      1.00      0.74     48000\n",
      "           1       1.00      0.06      0.11     36481\n",
      "\n",
      "    accuracy                           0.59     84481\n",
      "   macro avg       0.79      0.53      0.42     84481\n",
      "weighted avg       0.76      0.59      0.46     84481\n",
      "\n"
     ]
    }
   ],
   "source": [
    "print(classification_report(y6,y_pred6))"
   ]
  },
  {
   "cell_type": "markdown",
   "metadata": {},
   "source": [
    "## Decision Trees Model"
   ]
  },
  {
   "cell_type": "code",
   "execution_count": 263,
   "metadata": {},
   "outputs": [],
   "source": [
    "#create decision tree classifier object\n",
    "clf = DecisionTreeClassifier()\n",
    "#fit model using training set\n",
    "clf = clf.fit(X_train,y_train)"
   ]
  },
  {
   "cell_type": "code",
   "execution_count": 264,
   "metadata": {},
   "outputs": [],
   "source": [
    "#obtain prediction from decision tree classifier model\n",
    "predictclf = clf.predict(X_test)"
   ]
  },
  {
   "cell_type": "code",
   "execution_count": 265,
   "metadata": {
    "scrolled": true
   },
   "outputs": [
    {
     "data": {
      "text/plain": [
       "{'ccp_alpha': 0.0,\n",
       " 'class_weight': None,\n",
       " 'criterion': 'gini',\n",
       " 'max_depth': None,\n",
       " 'max_features': None,\n",
       " 'max_leaf_nodes': None,\n",
       " 'min_impurity_decrease': 0.0,\n",
       " 'min_impurity_split': None,\n",
       " 'min_samples_leaf': 1,\n",
       " 'min_samples_split': 2,\n",
       " 'min_weight_fraction_leaf': 0.0,\n",
       " 'presort': 'deprecated',\n",
       " 'random_state': None,\n",
       " 'splitter': 'best'}"
      ]
     },
     "execution_count": 265,
     "metadata": {},
     "output_type": "execute_result"
    }
   ],
   "source": [
    "clf.get_params()"
   ]
  },
  {
   "cell_type": "code",
   "execution_count": 266,
   "metadata": {},
   "outputs": [
    {
     "data": {
      "image/png": "[encoded data removed]",
      "text/plain": [
       "<Figure size 432x288 with 2 Axes>"
      ]
     },
     "metadata": {
      "needs_background": "light"
     },
     "output_type": "display_data"
    }
   ],
   "source": [
    "#lets test initial performance\n",
    "confusion_matrix(y_test,predictclf)\n",
    "# calculate the confusion matrix\n",
    "cm = confusion_matrix(y_test, predictclf)\n",
    "\n",
    "# plot the confusion matrix using seaborn\n",
    "sns.heatmap(cm, annot=True, cmap='Blues', fmt='g')\n",
    "\n",
    "# set the axis labels and title\n",
    "plt.xlabel('Predicted')\n",
    "plt.ylabel('Actual')\n",
    "plt.title('Confusion Matrix')\n",
    "\n",
    "plt.show()"
   ]
  },
  {
   "cell_type": "code",
   "execution_count": 267,
   "metadata": {},
   "outputs": [
    {
     "data": {
      "text/plain": [
       "0.9984703075774407"
      ]
     },
     "execution_count": 267,
     "metadata": {},
     "output_type": "execute_result"
    }
   ],
   "source": [
    "accuracy_score(y_test,predictclf)"
   ]
  },
  {
   "cell_type": "code",
   "execution_count": 269,
   "metadata": {},
   "outputs": [
    {
     "name": "stdout",
     "output_type": "stream",
     "text": [
      "Accuracy: 0.6086812419360567\n"
     ]
    }
   ],
   "source": [
    "#test performance with completely unseen data\n",
    "y_pred6 = clf.predict(X6)\n",
    "\n",
    "# Evaluate the accuracy of the classifier\n",
    "accuracy = accuracy_score(y6, y_pred6)\n",
    "print(\"Accuracy:\", accuracy)"
   ]
  },
  {
   "cell_type": "code",
   "execution_count": 270,
   "metadata": {},
   "outputs": [
    {
     "name": "stdout",
     "output_type": "stream",
     "text": [
      "Optimal ccp_alpha: 4.550076611012084e-06\n",
      "Mean CV Accuracy:  0.5013057017463989\n",
      "Accuracy after pruning: 0.9984885182015187\n"
     ]
    }
   ],
   "source": [
    "#lets implement pruning to make sure our decision tree isn't overfitting\n",
    "# prune the tree using ccp_alpha\n",
    "path = clf.cost_complexity_pruning_path(X_train, y_train)\n",
    "ccp_alphas, impurities = path.ccp_alphas, path.impurities\n",
    "clfs = []\n",
    "for ccp_alpha in ccp_alphas:\n",
    "    clf = DecisionTreeClassifier(random_state=52, ccp_alpha=ccp_alpha)\n",
    "    clf.fit(X_train, y_train)\n",
    "    clfs.append(clf)\n",
    "    \n",
    "# get optimal value of ccp_alpha using cross-validation\n",
    "\n",
    "scores = [cross_val_score(clf, X_train, y_train, cv=5).mean() for clf in clfs]\n",
    "optimal_alpha = ccp_alphas[np.argmax(scores)]\n",
    "print('Optimal ccp_alpha:', optimal_alpha)\n",
    "\n",
    "# retrain the classifier with the best value of ccp_alpha and implement 5 fold cross validation\n",
    "clf = DecisionTreeClassifier(random_state=52, ccp_alpha=optimal_alpha)\n",
    "clf.fit(X_train, y_train)\n",
    "\n",
    "# perform 5-fold cross validation on final model and calculate mean accuracy\n",
    "cv_scores = cross_val_score(clf, X, y, cv=5)\n",
    "mean_accuracy = np.mean(cv_scores)\n",
    "print('Mean CV Accuracy: ', mean_accuracy)\n",
    "\n",
    "# evaluate the classifier on the testing data once more\n",
    "print('Accuracy after pruning:', clf.score(X_test, y_test))"
   ]
  },
  {
   "cell_type": "code",
   "execution_count": 282,
   "metadata": {
    "scrolled": true
   },
   "outputs": [
    {
     "name": "stdout",
     "output_type": "stream",
     "text": [
      "Accuracy: 0.5552491092671725\n"
     ]
    }
   ],
   "source": [
    "#The important one!, implementing on untested data\n",
    "#test performance with completely unseen data\n",
    "y_pred6 = clf.predict(X6)\n",
    "\n",
    "# Evaluate the accuracy of the classifier\n",
    "accuracy = accuracy_score(y6, y_pred6)\n",
    "print(\"Accuracy:\", accuracy)"
   ]
  },
  {
   "cell_type": "code",
   "execution_count": 283,
   "metadata": {},
   "outputs": [
    {
     "name": "stdout",
     "output_type": "stream",
     "text": [
      "              precision    recall  f1-score   support\n",
      "\n",
      "           0       0.57      0.92      0.70     48000\n",
      "           1       0.42      0.07      0.13     36481\n",
      "\n",
      "    accuracy                           0.56     84481\n",
      "   macro avg       0.49      0.50      0.41     84481\n",
      "weighted avg       0.50      0.56      0.45     84481\n",
      "\n"
     ]
    }
   ],
   "source": [
    "print(classification_report(y6,y_pred6))"
   ]
  },
  {
   "cell_type": "code",
   "execution_count": 273,
   "metadata": {},
   "outputs": [
    {
     "data": {
      "image/png": "[encoded data removed]",
      "text/plain": [
       "<Figure size 432x288 with 2 Axes>"
      ]
     },
     "metadata": {
      "needs_background": "light"
     },
     "output_type": "display_data"
    }
   ],
   "source": [
    "\n",
    "# calculate the confusion matrix\n",
    "cm = confusion_matrix(y6,y_pred6)\n",
    "\n",
    "# plot the confusion matrix using seaborn\n",
    "sns.heatmap(cm, annot=True, cmap='Blues', fmt='g')\n",
    "\n",
    "# set the axis labels and title\n",
    "plt.xlabel('Predicted')\n",
    "plt.ylabel('Actual')\n",
    "plt.title('Decision Tree Confusion Matrix')\n",
    "\n",
    "plt.show()"
   ]
  },
  {
   "cell_type": "markdown",
   "metadata": {},
   "source": [
    "## Logistic regression classifier Model"
   ]
  },
  {
   "cell_type": "code",
   "execution_count": 274,
   "metadata": {},
   "outputs": [
    {
     "data": {
      "text/plain": [
       "LogisticRegression(random_state=52)"
      ]
     },
     "execution_count": 274,
     "metadata": {},
     "output_type": "execute_result"
    }
   ],
   "source": [
    "# define logistic regression model\n",
    "log_reg = LogisticRegression(random_state=52)\n",
    "log_reg.fit(X_train, y_train)"
   ]
  },
  {
   "cell_type": "code",
   "execution_count": 275,
   "metadata": {},
   "outputs": [
    {
     "name": "stdout",
     "output_type": "stream",
     "text": [
      "Accuracy:  0.6963196328738186\n"
     ]
    }
   ],
   "source": [
    "# predict on testing set\n",
    "y_pred = log_reg.predict(X_test)\n",
    "\n",
    "# evaluate model performance\n",
    "accuracy = accuracy_score(y_test, y_pred)\n",
    "print('Accuracy: ', accuracy)\n"
   ]
  },
  {
   "cell_type": "code",
   "execution_count": 276,
   "metadata": {},
   "outputs": [
    {
     "name": "stdout",
     "output_type": "stream",
     "text": [
      "Accuracy:  0.8291095039121222\n"
     ]
    }
   ],
   "source": [
    "# predict on participant 06 data\n",
    "y_pred6 = log_reg.predict(X6)\n",
    "\n",
    "# evaluate model performance\n",
    "accuracy = accuracy_score(y6, y_pred6)\n",
    "print('Accuracy: ', accuracy)\n"
   ]
  },
  {
   "cell_type": "code",
   "execution_count": 277,
   "metadata": {},
   "outputs": [
    {
     "name": "stdout",
     "output_type": "stream",
     "text": [
      "Best Parameters:  {'C': 1, 'penalty': 'l2'} Best Score:  0.6970252973587086\n",
      "Accuracy:  0.6963196328738186\n",
      "Mean CV Accuracy:  0.587736965745816\n"
     ]
    }
   ],
   "source": [
    "\n",
    "# define parameter grid for grid search\n",
    "param_grid = {'C': [0.01, 0.1, 1, 10, 100], 'penalty': ['l1', 'l2']}\n",
    "# we implement grid search using 5-fold cross validation\n",
    "grid_search = GridSearchCV(log_reg, param_grid, cv=5, scoring='accuracy', n_jobs=-1)\n",
    "grid_search.fit(X_train, y_train)\n",
    "# print best parameters and score\n",
    "print('Best Parameters: ', grid_search.best_params_,'Best Score: ',grid_search.best_score_)\n",
    "\n",
    "\n",
    "# fit the logistic regression model with best parameters\n",
    "best_log_reg = LogisticRegression(random_state=52, C=grid_search.best_params_['C'], penalty=grid_search.best_params_['penalty'])\n",
    "best_log_reg.fit(X_train, y_train)\n",
    "\n",
    "# predict on testing set\n",
    "y_pred = best_log_reg.predict(X_test)\n",
    "\n",
    "# evaluate model performance\n",
    "accuracy = accuracy_score(y_test, y_pred)\n",
    "print('Accuracy: ', accuracy)\n",
    "\n",
    "# perform 5-fold cross validation on final model and calculate mean accuracy\n",
    "cv_scores = cross_val_score(best_log_reg, X, y, cv=5)\n",
    "mean_accuracy = np.mean(cv_scores)\n",
    "print('Mean CV Accuracy: ', mean_accuracy)"
   ]
  },
  {
   "cell_type": "code",
   "execution_count": 278,
   "metadata": {
    "scrolled": true
   },
   "outputs": [
    {
     "name": "stdout",
     "output_type": "stream",
     "text": [
      "Accuracy with unseen data: 0.8291095039121222\n"
     ]
    }
   ],
   "source": [
    "print('Accuracy with unseen data:', best_log_reg.score(X6, y6))"
   ]
  },
  {
   "cell_type": "code",
   "execution_count": 284,
   "metadata": {},
   "outputs": [
    {
     "data": {
      "image/png": "[encoded data removed]",
      "text/plain": [
       "<Figure size 432x288 with 2 Axes>"
      ]
     },
     "metadata": {
      "needs_background": "light"
     },
     "output_type": "display_data"
    }
   ],
   "source": [
    "#lets test initial performance\n",
    "y_pred6 = best_log_reg.predict(X6)\n",
    "\n",
    "# confusion_matrix(y6,y_pred6)\n",
    "# calculate the confusion matrix\n",
    "cm = confusion_matrix(y6, y_pred6)\n",
    "\n",
    "# plot the confusion matrix using seaborn\n",
    "sns.heatmap(cm, annot=True, cmap='Blues', fmt='g')\n",
    "\n",
    "# set the axis labels and title\n",
    "plt.xlabel('Predicted')\n",
    "plt.ylabel('Actual')\n",
    "plt.title('Logistic Regression Confusion Matrix')\n",
    "\n",
    "plt.show()"
   ]
  },
  {
   "cell_type": "code",
   "execution_count": 285,
   "metadata": {},
   "outputs": [
    {
     "name": "stdout",
     "output_type": "stream",
     "text": [
      "              precision    recall  f1-score   support\n",
      "\n",
      "           0       0.93      0.76      0.83     48000\n",
      "           1       0.74      0.93      0.82     36481\n",
      "\n",
      "    accuracy                           0.83     84481\n",
      "   macro avg       0.84      0.84      0.83     84481\n",
      "weighted avg       0.85      0.83      0.83     84481\n",
      "\n"
     ]
    }
   ],
   "source": [
    "print(classification_report(y6,y_pred6))"
   ]
  },
  {
   "cell_type": "code",
   "execution_count": null,
   "metadata": {},
   "outputs": [],
   "source": []
  }
 ],
 "metadata": {
  "kernelspec": {
   "display_name": "Python 3",
   "language": "python",
   "name": "python3"
  },
  "language_info": {
   "codemirror_mode": {
    "name": "ipython",
    "version": 3
   },
   "file_extension": ".py",
   "mimetype": "text/x-python",
   "name": "python",
   "nbconvert_exporter": "python",
   "pygments_lexer": "ipython3",
   "version": "3.8.5"
  }
 },
 "nbformat": 4,
 "nbformat_minor": 5
}
